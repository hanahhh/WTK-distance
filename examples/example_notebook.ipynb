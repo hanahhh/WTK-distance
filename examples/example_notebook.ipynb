{
 "cells": [
  {
   "cell_type": "markdown",
   "metadata": {},
   "source": [
    "# UCR data"
   ]
  },
  {
   "cell_type": "markdown",
   "metadata": {},
   "source": [
    "## SVM"
   ]
  },
  {
   "cell_type": "code",
   "execution_count": 1,
   "metadata": {},
   "outputs": [],
   "source": [
    "import logging\n",
    "logging.basicConfig(level=logging.DEBUG)\n",
    "from sklearn.metrics import accuracy_score\n",
    "from sklearn.svm import SVC\n",
    "\n",
    "from wtk.utilities import get_ucr_dataset, krein_svm_grid_search\n",
    "from wtk import transform_to_dist_matrix, get_kernel_matrix, wtk_distance"
   ]
  },
  {
   "cell_type": "markdown",
   "metadata": {},
   "source": [
    "### Read UCR data"
   ]
  },
  {
   "cell_type": "code",
   "execution_count": 2,
   "metadata": {},
   "outputs": [],
   "source": [
    "X_train, y_train, X_test, y_test = get_ucr_dataset('../data/UCR/raw_data/', 'ItalyPowerDemand')"
   ]
  },
  {
   "cell_type": "code",
   "execution_count": 4,
   "metadata": {},
   "outputs": [
    {
     "data": {
      "text/plain": [
       "(67, 1029, (24,))"
      ]
     },
     "execution_count": 4,
     "metadata": {},
     "output_type": "execute_result"
    }
   ],
   "source": [
    "len(X_train), len(X_test), X_train[0].shape"
   ]
  },
  {
   "cell_type": "markdown",
   "metadata": {},
   "source": [
    "### Compute wasserstein distance matrices with subsequent length $k=10$\n"
   ]
  },
  {
   "cell_type": "code",
   "execution_count": 16,
   "metadata": {},
   "outputs": [],
   "source": [
    "D_train, D_test = transform_to_dist_matrix(X_train, X_test, 10)"
   ]
  },
  {
   "cell_type": "code",
   "execution_count": 17,
   "metadata": {},
   "outputs": [
    {
     "data": {
      "text/plain": [
       "array([[0.        , 1.38326055, 3.07846106, ..., 1.45252306, 1.90465423,\n",
       "        2.25061774],\n",
       "       [1.38326055, 0.        , 3.29482441, ..., 0.56957769, 1.21435146,\n",
       "        2.67014487],\n",
       "       [3.07846106, 3.29482441, 0.        , ..., 3.41526723, 3.37167033,\n",
       "        1.72739061],\n",
       "       ...,\n",
       "       [1.45252306, 0.56957769, 3.41526723, ..., 0.        , 1.12726491,\n",
       "        2.84850107],\n",
       "       [1.90465423, 1.21435146, 3.37167033, ..., 1.12726491, 0.        ,\n",
       "        2.811911  ],\n",
       "       [2.25061774, 2.67014487, 1.72739061, ..., 2.84850107, 2.811911  ,\n",
       "        0.        ]])"
      ]
     },
     "execution_count": 17,
     "metadata": {},
     "output_type": "execute_result"
    }
   ],
   "source": [
    "D_train"
   ]
  },
  {
   "cell_type": "code",
   "execution_count": null,
   "metadata": {},
   "outputs": [
    {
     "data": {
      "text/plain": [
       "array([1., 1., 2., 2., 1., 1., 2., 1., 1., 2., 2., 1., 1., 2., 1., 2., 1.,\n",
       "       1., 2., 1., 1., 2., 1., 1., 1., 1., 1., 2., 2., 1., 1., 2., 2., 1.,\n",
       "       2., 2., 1., 2., 1., 2., 1., 1., 2., 2., 1., 2., 2., 2., 2., 1., 1.,\n",
       "       2., 2., 2., 1., 2., 2., 1., 1., 2., 2., 1., 1., 2., 1., 2., 2.])"
      ]
     },
     "execution_count": 5,
     "metadata": {},
     "output_type": "execute_result"
    }
   ],
   "source": [
    "y_train"
   ]
  },
  {
   "cell_type": "markdown",
   "metadata": {},
   "source": [
    "### Run the grid search"
   ]
  },
  {
   "cell_type": "code",
   "execution_count": 5,
   "metadata": {},
   "outputs": [
    {
     "name": "stderr",
     "output_type": "stream",
     "text": [
      "INFO:root:Starting analysis\n"
     ]
    },
    {
     "ename": "TypeError",
     "evalue": "unsupported operand type(s) for +: 'dict' and 'dict'",
     "output_type": "error",
     "traceback": [
      "\u001b[1;31m---------------------------------------------------------------------------\u001b[0m",
      "\u001b[1;31mTypeError\u001b[0m                                 Traceback (most recent call last)",
      "Cell \u001b[1;32mIn[5], line 1\u001b[0m\n\u001b[1;32m----> 1\u001b[0m svm_clf \u001b[39m=\u001b[39m krein_svm_grid_search(D_train, D_test, y_train, y_test)\n",
      "File \u001b[1;32mc:\\Users\\hoang\\OneDrive\\Documents\\Machine Learning\\LAB\\WTK\\venv\\Lib\\site-packages\\wtk\\utilities.py:133\u001b[0m, in \u001b[0;36mkrein_svm_grid_search\u001b[1;34m(K_train, K_test, y_train, y_test, param_grid, gammas)\u001b[0m\n\u001b[0;32m    130\u001b[0m svm \u001b[39m=\u001b[39m SVC(kernel\u001b[39m=\u001b[39m\u001b[39m'\u001b[39m\u001b[39mprecomputed\u001b[39m\u001b[39m'\u001b[39m)\n\u001b[0;32m    132\u001b[0m \u001b[39m# Gridsearch\u001b[39;00m\n\u001b[1;32m--> 133\u001b[0m gs, best_params \u001b[39m=\u001b[39m custom_grid_search_cv(svm, param_grid, kernel_matrices_train, y_train, cv\u001b[39m=\u001b[39;49m\u001b[39m5\u001b[39;49m)\n\u001b[0;32m    134\u001b[0m \u001b[39m# Store best params\u001b[39;00m\n\u001b[0;32m    135\u001b[0m gamma \u001b[39m=\u001b[39m kernel_params[best_params[\u001b[39m'\u001b[39m\u001b[39mK_idx\u001b[39m\u001b[39m'\u001b[39m]]\n",
      "File \u001b[1;32mc:\\Users\\hoang\\OneDrive\\Documents\\Machine Learning\\LAB\\WTK\\venv\\Lib\\site-packages\\wtk\\utilities.py:89\u001b[0m, in \u001b[0;36mcustom_grid_search_cv\u001b[1;34m(model, param_grid, precomputed_kernels, y, cv)\u001b[0m\n\u001b[0;32m     87\u001b[0m \u001b[39m# Collect results and average\u001b[39;00m\n\u001b[0;32m     88\u001b[0m results \u001b[39m=\u001b[39m np\u001b[39m.\u001b[39marray(results)\n\u001b[1;32m---> 89\u001b[0m fin_results \u001b[39m=\u001b[39m results\u001b[39m.\u001b[39;49mmean(axis\u001b[39m=\u001b[39;49m\u001b[39m0\u001b[39;49m)\n\u001b[0;32m     90\u001b[0m \u001b[39m# select the best results\u001b[39;00m\n\u001b[0;32m     91\u001b[0m best_idx \u001b[39m=\u001b[39m np\u001b[39m.\u001b[39margmax(fin_results)\n",
      "File \u001b[1;32mc:\\Users\\hoang\\OneDrive\\Documents\\Machine Learning\\LAB\\WTK\\venv\\Lib\\site-packages\\numpy\\core\\_methods.py:118\u001b[0m, in \u001b[0;36m_mean\u001b[1;34m(a, axis, dtype, out, keepdims, where)\u001b[0m\n\u001b[0;32m    115\u001b[0m         dtype \u001b[39m=\u001b[39m mu\u001b[39m.\u001b[39mdtype(\u001b[39m'\u001b[39m\u001b[39mf4\u001b[39m\u001b[39m'\u001b[39m)\n\u001b[0;32m    116\u001b[0m         is_float16_result \u001b[39m=\u001b[39m \u001b[39mTrue\u001b[39;00m\n\u001b[1;32m--> 118\u001b[0m ret \u001b[39m=\u001b[39m umr_sum(arr, axis, dtype, out, keepdims, where\u001b[39m=\u001b[39mwhere)\n\u001b[0;32m    119\u001b[0m \u001b[39mif\u001b[39;00m \u001b[39misinstance\u001b[39m(ret, mu\u001b[39m.\u001b[39mndarray):\n\u001b[0;32m    120\u001b[0m     \u001b[39mwith\u001b[39;00m _no_nep50_warning():\n",
      "\u001b[1;31mTypeError\u001b[0m: unsupported operand type(s) for +: 'dict' and 'dict'"
     ]
    }
   ],
   "source": [
    "svm_clf = krein_svm_grid_search(D_train, D_test, y_train, y_test)"
   ]
  },
  {
   "cell_type": "markdown",
   "metadata": {},
   "source": [
    "### Alternatively: Get the kernel matrices computed from the distance matrices ..."
   ]
  },
  {
   "cell_type": "code",
   "execution_count": 22,
   "metadata": {},
   "outputs": [
    {
     "data": {
      "text/plain": [
       "(array([[1.        , 0.75831826, 0.54026679, ..., 0.74788608, 0.68322514,\n",
       "         0.63754938],\n",
       "        [0.75831826, 1.        , 0.51738661, ..., 0.89233332, 0.78437325,\n",
       "         0.58623827],\n",
       "        [0.54026679, 0.51738661, 1.        , ..., 0.50507242, 0.5094956 ,\n",
       "         0.70788182],\n",
       "        ...,\n",
       "        [0.74788608, 0.89233332, 0.50507242, ..., 1.        , 0.79815459,\n",
       "         0.565695  ],\n",
       "        [0.68322514, 0.78437325, 0.5094956 , ..., 0.79815459, 1.        ,\n",
       "         0.56984995],\n",
       "        [0.63754938, 0.58623827, 0.70788182, ..., 0.565695  , 0.56984995,\n",
       "         1.        ]]),\n",
       " array([[0.69431375, 0.63741963, 0.68224908, ..., 0.60610564, 0.61017478,\n",
       "         0.83873557],\n",
       "        [0.71704914, 0.87580403, 0.51645618, ..., 0.84899254, 0.85177573,\n",
       "         0.58106967],\n",
       "        [0.68992538, 0.80073716, 0.49604896, ..., 0.79785268, 0.8568112 ,\n",
       "         0.57101492],\n",
       "        ...,\n",
       "        [0.72431506, 0.89364112, 0.50613727, ..., 0.90441957, 0.81286601,\n",
       "         0.56505763],\n",
       "        [0.53528836, 0.51234265, 0.838211  , ..., 0.49958923, 0.49969039,\n",
       "         0.71635383],\n",
       "        [0.70192226, 0.84302811, 0.51200383, ..., 0.83588493, 0.86183922,\n",
       "         0.57036114]]))"
      ]
     },
     "execution_count": 22,
     "metadata": {},
     "output_type": "execute_result"
    }
   ],
   "source": [
    "K_train = get_kernel_matrix(D_train, psd=True, gamma=0.2)\n",
    "K_test = get_kernel_matrix(D_test, psd=False, gamma=0.2)\n",
    "K_train, K_test"
   ]
  },
  {
   "cell_type": "markdown",
   "metadata": {},
   "source": [
    "### ... and train your own classifier"
   ]
  },
  {
   "cell_type": "code",
   "execution_count": 19,
   "metadata": {},
   "outputs": [
    {
     "data": {
      "text/plain": [
       "0.9640427599611273"
      ]
     },
     "execution_count": 19,
     "metadata": {},
     "output_type": "execute_result"
    }
   ],
   "source": [
    "clf = SVC(C=5, kernel='precomputed')\n",
    "clf.fit(K_train, y_train)\n",
    "y_pred = clf.predict(K_test)\n",
    "accuracy_score(y_test, y_pred)"
   ]
  },
  {
   "cell_type": "markdown",
   "metadata": {},
   "source": [
    "## K-NN\n"
   ]
  },
  {
   "cell_type": "code",
   "execution_count": 5,
   "metadata": {},
   "outputs": [
    {
     "data": {
      "text/plain": [
       "1.338264444061254"
      ]
     },
     "execution_count": 5,
     "metadata": {},
     "output_type": "execute_result"
    }
   ],
   "source": [
    "subs_2 = wtk_distance(X_train[0], X_train[20], 10)\n",
    "subs_2"
   ]
  },
  {
   "cell_type": "code",
   "execution_count": 3,
   "metadata": {},
   "outputs": [],
   "source": [
    "import numpy as np\n",
    "from sklearn.neighbors import KNeighborsClassifier\n",
    "\n",
    "\n",
    "def knn_classifier_from_distance_matrix(distance_matrix, k, labels):\n",
    "    knn_clf = KNeighborsClassifier(\n",
    "        n_neighbors=k, algorithm=\"brute\", metric=\"precomputed\"\n",
    "    )\n",
    "    n_train_samples = distance_matrix.shape[1]\n",
    "    knn_clf.fit(np.random.rand(n_train_samples, n_train_samples), labels)\n",
    "    predicted_labels = knn_clf.predict(distance_matrix)\n",
    "    return predicted_labels\n"
   ]
  },
  {
   "cell_type": "code",
   "execution_count": 4,
   "metadata": {},
   "outputs": [
    {
     "name": "stderr",
     "output_type": "stream",
     "text": [
      "  0%|          | 0/67 [00:00<?, ?it/s]"
     ]
    },
    {
     "name": "stderr",
     "output_type": "stream",
     "text": [
      "100%|██████████| 67/67 [00:25<00:00,  2.65it/s]\n"
     ]
    }
   ],
   "source": [
    "from tqdm import tqdm\n",
    "\n",
    "train_size = len(X_train)\n",
    "test_size = len(X_test)\n",
    "result = np.zeros((test_size, train_size))\n",
    "for train_idx in tqdm(range(train_size)):\n",
    "    for test_idx in tqdm(range(test_size), leave=False):\n",
    "        distance = wtk_distance(X_train[train_idx], X_test[test_idx], 10)\n",
    "        result[test_idx, train_idx] = distance"
   ]
  },
  {
   "cell_type": "code",
   "execution_count": 5,
   "metadata": {},
   "outputs": [],
   "source": [
    "y_pred = knn_classifier_from_distance_matrix(\n",
    "        distance_matrix=result,\n",
    "        k=3,\n",
    "        labels=y_train,\n",
    "    )"
   ]
  },
  {
   "cell_type": "code",
   "execution_count": 6,
   "metadata": {},
   "outputs": [
    {
     "data": {
      "text/plain": [
       "0.9572400388726919"
      ]
     },
     "execution_count": 6,
     "metadata": {},
     "output_type": "execute_result"
    }
   ],
   "source": [
    "accuracy_score(y_test, y_pred)"
   ]
  },
  {
   "cell_type": "code",
   "execution_count": 13,
   "metadata": {},
   "outputs": [],
   "source": [
    "y_pred_1 = knn_classifier_from_distance_matrix(\n",
    "        distance_matrix=K_train,\n",
    "        k=3,\n",
    "        labels=y_train,\n",
    "    )"
   ]
  },
  {
   "cell_type": "code",
   "execution_count": 15,
   "metadata": {},
   "outputs": [
    {
     "data": {
      "text/plain": [
       "array([2., 2., 2., 2., 2., 2., 2., 2., 2., 2., 2., 2., 2., 2., 2., 2., 2.,\n",
       "       2., 2., 2., 2., 2., 2., 2., 2., 2., 2., 2., 2., 2., 2., 2., 2., 2.,\n",
       "       2., 2., 2., 1., 2., 2., 2., 2., 2., 2., 2., 2., 2., 2., 2., 2., 2.,\n",
       "       2., 2., 1., 2., 2., 2., 2., 2., 2., 2., 2., 2., 2., 2., 2., 2.])"
      ]
     },
     "execution_count": 15,
     "metadata": {},
     "output_type": "execute_result"
    }
   ],
   "source": [
    "y_pred_1"
   ]
  },
  {
   "cell_type": "markdown",
   "metadata": {},
   "source": [
    "# Arabic"
   ]
  },
  {
   "cell_type": "code",
   "execution_count": 34,
   "metadata": {},
   "outputs": [],
   "source": [
    "from wtk.arabicData import get_test_data, get_train_data\n",
    "import os\n",
    "import numpy as np"
   ]
  },
  {
   "cell_type": "code",
   "execution_count": 35,
   "metadata": {},
   "outputs": [],
   "source": [
    "TRAIN_FILE = os.path.join('C:/Users/hoang/OneDrive/Documents/Machine Learning/LAB/WTK/data/UCR/raw_data/arabic/Train_Arabic_Digit.txt')\n",
    "TEST_FILE = os.path.join('C:/Users/hoang/OneDrive/Documents/Machine Learning/LAB/WTK/data/UCR/raw_data/arabic/Test_Arabic_Digit.txt')"
   ]
  },
  {
   "cell_type": "code",
   "execution_count": 36,
   "metadata": {},
   "outputs": [
    {
     "data": {
      "text/plain": [
       "('C:/Users/hoang/OneDrive/Documents/Machine Learning/LAB/WTK/data/UCR/raw_data/arabic/Train_Arabic_Digit.txt',\n",
       " 'C:/Users/hoang/OneDrive/Documents/Machine Learning/LAB/WTK/data/UCR/raw_data/arabic/Test_Arabic_Digit.txt')"
      ]
     },
     "execution_count": 36,
     "metadata": {},
     "output_type": "execute_result"
    }
   ],
   "source": [
    "TRAIN_FILE, TEST_FILE"
   ]
  },
  {
   "cell_type": "code",
   "execution_count": 37,
   "metadata": {},
   "outputs": [],
   "source": [
    "X_train_arabic, y_train_arabic = get_train_data(\"C:/Users/hoang/OneDrive/Documents/Machine Learning/LAB/WTK/data/UCR/raw_data/arabic/Train_Arabic_Digit.txt\")\n",
    "X_test_arabic, y_test_arabic = get_test_data(\"C:/Users/hoang/OneDrive/Documents/Machine Learning/LAB/WTK/data/UCR/raw_data/arabic/Test_Arabic_Digit.txt\")"
   ]
  },
  {
   "cell_type": "code",
   "execution_count": 38,
   "metadata": {},
   "outputs": [],
   "source": [
    "def findTheShortestArray(list1, list2, min_subsequence):\n",
    "    min1 = min(list1, key=len)\n",
    "    min2 = min(list2, key=len)\n",
    "    return min(len(min1), len(min2)) - min_subsequence + 1"
   ]
  },
  {
   "cell_type": "code",
   "execution_count": 40,
   "metadata": {},
   "outputs": [
    {
     "data": {
      "text/plain": [
       "43"
      ]
     },
     "execution_count": 40,
     "metadata": {},
     "output_type": "execute_result"
    }
   ],
   "source": [
    "kernel_size = findTheShortestArray(X_train_arabic, X_test_arabic, 10)\n",
    "kernel_size"
   ]
  },
  {
   "cell_type": "code",
   "execution_count": 44,
   "metadata": {},
   "outputs": [],
   "source": [
    "import numpy as np\n",
    "from sklearn.neighbors import KNeighborsClassifier\n",
    "from sklearn.metrics import accuracy_score\n",
    "\n",
    "def knn_classifier_from_distance_matrix(distance_matrix, k, labels):\n",
    "    knn_clf = KNeighborsClassifier(\n",
    "        n_neighbors=k, algorithm=\"brute\", metric=\"precomputed\"\n",
    "    )\n",
    "    n_train_samples = distance_matrix.shape[1]\n",
    "    knn_clf.fit(np.random.rand(n_train_samples, n_train_samples), labels)\n",
    "    predicted_labels = knn_clf.predict(distance_matrix)\n",
    "    return predicted_labels\n"
   ]
  },
  {
   "cell_type": "code",
   "execution_count": 45,
   "metadata": {},
   "outputs": [
    {
     "name": "stderr",
     "output_type": "stream",
     "text": [
      "  0%|          | 0/6600 [00:00<?, ?it/s]"
     ]
    },
    {
     "name": "stderr",
     "output_type": "stream",
     "text": [
      "  0%|          | 0/6600 [00:40<?, ?it/s]\n"
     ]
    },
    {
     "ename": "KeyboardInterrupt",
     "evalue": "",
     "output_type": "error",
     "traceback": [
      "\u001b[1;31m---------------------------------------------------------------------------\u001b[0m",
      "\u001b[1;31mKeyboardInterrupt\u001b[0m                         Traceback (most recent call last)",
      "Cell \u001b[1;32mIn[45], line 9\u001b[0m\n\u001b[0;32m      7\u001b[0m \u001b[39mfor\u001b[39;00m train_idx \u001b[39min\u001b[39;00m tqdm(\u001b[39mrange\u001b[39m(train_size)):\n\u001b[0;32m      8\u001b[0m     \u001b[39mfor\u001b[39;00m test_idx \u001b[39min\u001b[39;00m tqdm(\u001b[39mrange\u001b[39m(test_size), leave\u001b[39m=\u001b[39m\u001b[39mFalse\u001b[39;00m):\n\u001b[1;32m----> 9\u001b[0m         distance \u001b[39m=\u001b[39m wtk_distance(X_train_arabic[train_idx], X_test_arabic[test_idx], kernel_size)\n\u001b[0;32m     10\u001b[0m         result[test_idx, train_idx] \u001b[39m=\u001b[39m distance\n",
      "File \u001b[1;32mc:\\Users\\hoang\\OneDrive\\Documents\\Machine Learning\\LAB\\WTK\\venv\\Lib\\site-packages\\wtk\\__init__.py:268\u001b[0m, in \u001b[0;36mwtk_distance\u001b[1;34m(a, b, k, functor, par_grid, normalized)\u001b[0m\n\u001b[0;32m    266\u001b[0m subs_a \u001b[39m=\u001b[39m subsequences(a, k)\n\u001b[0;32m    267\u001b[0m subs_b \u001b[39m=\u001b[39m subsequences(b, k)\n\u001b[1;32m--> 268\u001b[0m dis \u001b[39m=\u001b[39m functor(subs_a, subs_b)\n\u001b[0;32m    269\u001b[0m \u001b[39mreturn\u001b[39;00m dis\n",
      "File \u001b[1;32mc:\\Users\\hoang\\OneDrive\\Documents\\Machine Learning\\LAB\\WTK\\venv\\Lib\\site-packages\\wtk\\__init__.py:70\u001b[0m, in \u001b[0;36mwasserstein_kernel\u001b[1;34m(subsequences_1, subsequences_2, metric)\u001b[0m\n\u001b[0;32m     63\u001b[0m \u001b[39mdef\u001b[39;00m \u001b[39mwasserstein_kernel\u001b[39m(subsequences_1, subsequences_2, metric\u001b[39m=\u001b[39m\u001b[39m'\u001b[39m\u001b[39meuclidean\u001b[39m\u001b[39m'\u001b[39m):\n\u001b[0;32m     64\u001b[0m \u001b[39m    \u001b[39m\u001b[39m'''\u001b[39;00m\n\u001b[0;32m     65\u001b[0m \u001b[39m    Calculates the distance between two time series using their\u001b[39;00m\n\u001b[0;32m     66\u001b[0m \u001b[39m    corresponding set of subsequences. The metric used to align\u001b[39;00m\n\u001b[0;32m     67\u001b[0m \u001b[39m    them may be optionally changed.\u001b[39;00m\n\u001b[0;32m     68\u001b[0m \u001b[39m    '''\u001b[39;00m\n\u001b[1;32m---> 70\u001b[0m     C \u001b[39m=\u001b[39m ot\u001b[39m.\u001b[39;49mdist(subsequences_1, subsequences_2, metric\u001b[39m=\u001b[39;49mmetric)\n\u001b[0;32m     71\u001b[0m     \u001b[39mreturn\u001b[39;00m ot\u001b[39m.\u001b[39memd2([], [], C)\n",
      "File \u001b[1;32mc:\\Users\\hoang\\OneDrive\\Documents\\Machine Learning\\LAB\\WTK\\venv\\Lib\\site-packages\\ot\\utils.py:230\u001b[0m, in \u001b[0;36mdist\u001b[1;34m(x1, x2, metric, p, w)\u001b[0m\n\u001b[0;32m    228\u001b[0m     \u001b[39mreturn\u001b[39;00m euclidean_distances(x1, x2, squared\u001b[39m=\u001b[39m\u001b[39mTrue\u001b[39;00m)\n\u001b[0;32m    229\u001b[0m \u001b[39melif\u001b[39;00m metric \u001b[39m==\u001b[39m \u001b[39m\"\u001b[39m\u001b[39meuclidean\u001b[39m\u001b[39m\"\u001b[39m:\n\u001b[1;32m--> 230\u001b[0m     \u001b[39mreturn\u001b[39;00m euclidean_distances(x1, x2, squared\u001b[39m=\u001b[39;49m\u001b[39mFalse\u001b[39;49;00m)\n\u001b[0;32m    231\u001b[0m \u001b[39melse\u001b[39;00m:\n\u001b[0;32m    232\u001b[0m     \u001b[39mif\u001b[39;00m \u001b[39mnot\u001b[39;00m get_backend(x1, x2)\u001b[39m.\u001b[39m\u001b[39m__name__\u001b[39m \u001b[39m==\u001b[39m \u001b[39m'\u001b[39m\u001b[39mnumpy\u001b[39m\u001b[39m'\u001b[39m:\n",
      "File \u001b[1;32mc:\\Users\\hoang\\OneDrive\\Documents\\Machine Learning\\LAB\\WTK\\venv\\Lib\\site-packages\\ot\\utils.py:177\u001b[0m, in \u001b[0;36meuclidean_distances\u001b[1;34m(X, Y, squared)\u001b[0m\n\u001b[0;32m    174\u001b[0m a2 \u001b[39m=\u001b[39m nx\u001b[39m.\u001b[39meinsum(\u001b[39m'\u001b[39m\u001b[39mij,ij->i\u001b[39m\u001b[39m'\u001b[39m, X, X)\n\u001b[0;32m    175\u001b[0m b2 \u001b[39m=\u001b[39m nx\u001b[39m.\u001b[39meinsum(\u001b[39m'\u001b[39m\u001b[39mij,ij->i\u001b[39m\u001b[39m'\u001b[39m, Y, Y)\n\u001b[1;32m--> 177\u001b[0m c \u001b[39m=\u001b[39m \u001b[39m-\u001b[39m\u001b[39m2\u001b[39m \u001b[39m*\u001b[39m nx\u001b[39m.\u001b[39;49mdot(X, Y\u001b[39m.\u001b[39;49mT)\n\u001b[0;32m    178\u001b[0m c \u001b[39m+\u001b[39m\u001b[39m=\u001b[39m a2[:, \u001b[39mNone\u001b[39;00m]\n\u001b[0;32m    179\u001b[0m c \u001b[39m+\u001b[39m\u001b[39m=\u001b[39m b2[\u001b[39mNone\u001b[39;00m, :]\n",
      "File \u001b[1;32mc:\\Users\\hoang\\OneDrive\\Documents\\Machine Learning\\LAB\\WTK\\venv\\Lib\\site-packages\\ot\\backend.py:1031\u001b[0m, in \u001b[0;36mNumpyBackend.dot\u001b[1;34m(self, a, b)\u001b[0m\n\u001b[0;32m   1030\u001b[0m \u001b[39mdef\u001b[39;00m \u001b[39mdot\u001b[39m(\u001b[39mself\u001b[39m, a, b):\n\u001b[1;32m-> 1031\u001b[0m     \u001b[39mreturn\u001b[39;00m np\u001b[39m.\u001b[39;49mdot(a, b)\n",
      "\u001b[1;31mKeyboardInterrupt\u001b[0m: "
     ]
    }
   ],
   "source": [
    "from tqdm import tqdm\n",
    "\n",
    "train_size = len(X_train_arabic)\n",
    "test_size = len(X_test_arabic)\n",
    "kernel_size = findTheShortestArray(X_train_arabic, X_test_arabic, 10)\n",
    "result = np.zeros((test_size, train_size))\n",
    "for train_idx in tqdm(range(train_size)):\n",
    "    for test_idx in tqdm(range(test_size), leave=False):\n",
    "        distance = wtk_distance(X_train_arabic[train_idx], X_test_arabic[test_idx], kernel_size)\n",
    "        result[test_idx, train_idx] = distance"
   ]
  },
  {
   "cell_type": "code",
   "execution_count": 33,
   "metadata": {},
   "outputs": [],
   "source": [
    "y_pred = knn_classifier_from_distance_matrix(\n",
    "        distance_matrix=result,\n",
    "        k=3,\n",
    "        labels=y_train_arabic,\n",
    "    )"
   ]
  },
  {
   "cell_type": "code",
   "execution_count": 35,
   "metadata": {},
   "outputs": [
    {
     "data": {
      "text/plain": [
       "0.7777272727272727"
      ]
     },
     "execution_count": 35,
     "metadata": {},
     "output_type": "execute_result"
    }
   ],
   "source": [
    "accuracy_score(y_test_arabic, y_pred)"
   ]
  },
  {
   "cell_type": "code",
   "execution_count": null,
   "metadata": {},
   "outputs": [],
   "source": []
  },
  {
   "cell_type": "markdown",
   "metadata": {},
   "source": []
  }
 ],
 "metadata": {
  "kernelspec": {
   "display_name": "Python 3",
   "language": "python",
   "name": "python3"
  },
  "language_info": {
   "codemirror_mode": {
    "name": "ipython",
    "version": 3
   },
   "file_extension": ".py",
   "mimetype": "text/x-python",
   "name": "python",
   "nbconvert_exporter": "python",
   "pygments_lexer": "ipython3",
   "version": "3.11.0"
  }
 },
 "nbformat": 4,
 "nbformat_minor": 2
}

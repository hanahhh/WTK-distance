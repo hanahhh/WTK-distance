{
 "cells": [
  {
   "cell_type": "code",
   "execution_count": 1,
   "metadata": {},
   "outputs": [],
   "source": [
    "import numpy as np\n",
    "from getData import getData\n",
    "from knn import knn_WTK"
   ]
  },
  {
   "cell_type": "code",
   "execution_count": 2,
   "metadata": {},
   "outputs": [],
   "source": [
    "def findTheShortestArray(list1, list2):\n",
    "    min1 = min(list1, key=len)\n",
    "    min2 = min(list2, key=len)\n",
    "    min_len = min(len(min1), len(min2))\n",
    "    frac1 = int(np.floor(min_len*10/100))\n",
    "    frac2 = int(np.floor(min_len*30/100))\n",
    "    frac3 = int(np.floor(min_len*50/100))\n",
    "    frac4 = int(np.floor(min_len*70/100))\n",
    "    frac5 = int(np.floor(min_len*90/100))\n",
    "    min_array = [frac1, frac2, frac3, frac4, frac5]\n",
    "    return min_array\n",
    "size_list = [10, 30, 50, 70, 90]"
   ]
  },
  {
   "cell_type": "markdown",
   "metadata": {},
   "source": [
    "### BME dataset"
   ]
  },
  {
   "cell_type": "code",
   "execution_count": 18,
   "metadata": {},
   "outputs": [],
   "source": [
    "X_train, y_train, X_test, y_test = getData('BME', '../data/UCR/raw_data/')"
   ]
  },
  {
   "cell_type": "code",
   "execution_count": 19,
   "metadata": {},
   "outputs": [
    {
     "data": {
      "text/plain": [
       "[12, 38, 64, 89, 115]"
      ]
     },
     "execution_count": 19,
     "metadata": {},
     "output_type": "execute_result"
    }
   ],
   "source": [
    "size_array = findTheShortestArray(X_train, X_test)\n",
    "size_array"
   ]
  },
  {
   "cell_type": "code",
   "execution_count": 20,
   "metadata": {},
   "outputs": [
    {
     "name": "stderr",
     "output_type": "stream",
     "text": [
      "100%|██████████| 30/30 [00:23<00:00,  1.27it/s]\n",
      "100%|██████████| 30/30 [00:22<00:00,  1.31it/s]\n",
      "100%|██████████| 30/30 [00:17<00:00,  1.76it/s]\n",
      "100%|██████████| 30/30 [00:12<00:00,  2.44it/s]\n",
      "100%|██████████| 30/30 [00:26<00:00,  1.13it/s]\n",
      "100%|██████████| 30/30 [00:22<00:00,  1.30it/s]\n",
      "100%|██████████| 30/30 [00:08<00:00,  3.66it/s]\n",
      "100%|██████████| 30/30 [00:07<00:00,  3.86it/s]\n",
      "100%|██████████| 30/30 [00:08<00:00,  3.68it/s]\n",
      "100%|██████████| 30/30 [00:04<00:00,  6.50it/s]\n",
      "100%|██████████| 30/30 [00:05<00:00,  5.84it/s]\n",
      "100%|██████████| 30/30 [00:04<00:00,  6.11it/s]\n",
      "100%|██████████| 30/30 [00:03<00:00,  7.64it/s]\n",
      "100%|██████████| 30/30 [00:03<00:00,  9.91it/s]\n",
      "100%|██████████| 30/30 [00:03<00:00,  9.40it/s]\n"
     ]
    }
   ],
   "source": [
    "for index, kernel in enumerate(size_array):\n",
    "    with open('../experiments/experiment_wtk_full.txt', 'a') as file:\n",
    "        file.write(f\"BME({size_list[index]}) \")\n",
    "    for i in range (1, 6, 2):\n",
    "        accuracy = knn_WTK(X_train=X_train, X_test=X_test, y_train=y_train, y_test=y_test, data_set=\"BME\", sub_length=kernel, k=i)\n",
    "        with open('../experiments/experiment_wtk_full.txt', 'a') as file:\n",
    "            if i == 5:\n",
    "                file.write(f\"&{round(accuracy, 2)}\\\\\\ \\n\")\n",
    "            else:\n",
    "                file.write(f\"&{round(accuracy, 2)} \")\n",
    "\n",
    "with open('../experiments/experiment_wtk_full.txt', 'a') as file:\n",
    "    file.write(f\"--------------------------------------------------------------------------------------------------\\n\")"
   ]
  },
  {
   "cell_type": "markdown",
   "metadata": {},
   "source": [
    "### BeetleFly"
   ]
  },
  {
   "cell_type": "code",
   "execution_count": 21,
   "metadata": {},
   "outputs": [],
   "source": [
    "X_train, y_train, X_test, y_test = getData('BeetleFly', '../data/UCR/raw_data/')"
   ]
  },
  {
   "cell_type": "code",
   "execution_count": 22,
   "metadata": {},
   "outputs": [
    {
     "data": {
      "text/plain": [
       "[51, 153, 256, 358, 460]"
      ]
     },
     "execution_count": 22,
     "metadata": {},
     "output_type": "execute_result"
    }
   ],
   "source": [
    "size_array = findTheShortestArray(X_train, X_test)\n",
    "size_array"
   ]
  },
  {
   "cell_type": "code",
   "execution_count": 23,
   "metadata": {},
   "outputs": [
    {
     "name": "stderr",
     "output_type": "stream",
     "text": [
      "100%|██████████| 20/20 [00:24<00:00,  1.23s/it]\n",
      "100%|██████████| 20/20 [00:19<00:00,  1.05it/s]\n",
      "100%|██████████| 20/20 [00:19<00:00,  1.05it/s]\n",
      "100%|██████████| 20/20 [00:15<00:00,  1.29it/s]\n",
      "100%|██████████| 20/20 [00:19<00:00,  1.05it/s]\n",
      "100%|██████████| 20/20 [00:26<00:00,  1.30s/it]\n",
      "100%|██████████| 20/20 [00:10<00:00,  1.89it/s]\n",
      "100%|██████████| 20/20 [00:09<00:00,  2.16it/s]\n",
      "100%|██████████| 20/20 [00:10<00:00,  1.90it/s]\n",
      "100%|██████████| 20/20 [00:03<00:00,  6.38it/s]\n",
      "100%|██████████| 20/20 [00:03<00:00,  5.80it/s]\n",
      "100%|██████████| 20/20 [00:03<00:00,  6.29it/s]\n",
      "100%|██████████| 20/20 [00:00<00:00, 29.27it/s]\n",
      "100%|██████████| 20/20 [00:00<00:00, 30.32it/s]\n",
      "100%|██████████| 20/20 [00:00<00:00, 22.19it/s]\n"
     ]
    }
   ],
   "source": [
    "for index, kernel in enumerate(size_array):\n",
    "    with open('../experiments/experiment_wtk_full.txt', 'a') as file:\n",
    "        file.write(f\"BeetleFly({size_list[index]}) \")\n",
    "    for i in range (1, 6, 2):\n",
    "        accuracy = knn_WTK(X_train=X_train, X_test=X_test, y_train=y_train, y_test=y_test, data_set=\"BeetleFly\", sub_length=kernel, k=i)\n",
    "        with open('../experiments/experiment_wtk_full.txt', 'a') as file:\n",
    "            if i == 5:\n",
    "                file.write(f\"&{round(accuracy, 2)}\\\\\\ \\n\")\n",
    "            else:\n",
    "                file.write(f\"&{round(accuracy, 2)} \")\n",
    "\n",
    "with open('../experiments/experiment_wtk_full.txt', 'a') as file:\n",
    "    file.write(f\"--------------------------------------------------------------------------------------------------\\n\")"
   ]
  },
  {
   "cell_type": "markdown",
   "metadata": {},
   "source": [
    "### BirdChicken"
   ]
  },
  {
   "cell_type": "code",
   "execution_count": 24,
   "metadata": {},
   "outputs": [],
   "source": [
    "X_train, y_train, X_test, y_test = getData('BirdChicken', '../data/UCR/raw_data/')"
   ]
  },
  {
   "cell_type": "code",
   "execution_count": 25,
   "metadata": {},
   "outputs": [
    {
     "data": {
      "text/plain": [
       "[51, 153, 256, 358, 460]"
      ]
     },
     "execution_count": 25,
     "metadata": {},
     "output_type": "execute_result"
    }
   ],
   "source": [
    "size_array = findTheShortestArray(X_train, X_test)\n",
    "size_array"
   ]
  },
  {
   "cell_type": "code",
   "execution_count": 26,
   "metadata": {},
   "outputs": [
    {
     "name": "stderr",
     "output_type": "stream",
     "text": [
      "100%|██████████| 20/20 [00:24<00:00,  1.21s/it]\n",
      "100%|██████████| 20/20 [00:27<00:00,  1.38s/it]\n",
      "100%|██████████| 20/20 [00:27<00:00,  1.37s/it]\n",
      "100%|██████████| 20/20 [00:16<00:00,  1.21it/s]\n",
      "100%|██████████| 20/20 [00:16<00:00,  1.22it/s]\n",
      "100%|██████████| 20/20 [00:16<00:00,  1.23it/s]\n",
      "100%|██████████| 20/20 [00:09<00:00,  2.09it/s]\n",
      "100%|██████████| 20/20 [00:08<00:00,  2.29it/s]\n",
      "100%|██████████| 20/20 [00:08<00:00,  2.27it/s]\n",
      "100%|██████████| 20/20 [00:03<00:00,  5.63it/s]\n",
      "100%|██████████| 20/20 [00:03<00:00,  6.36it/s]\n",
      "100%|██████████| 20/20 [00:03<00:00,  5.36it/s]\n",
      "100%|██████████| 20/20 [00:01<00:00, 19.85it/s]\n",
      "100%|██████████| 20/20 [00:00<00:00, 20.08it/s]\n",
      "100%|██████████| 20/20 [00:00<00:00, 26.14it/s]\n"
     ]
    }
   ],
   "source": [
    "for index, kernel in enumerate(size_array):\n",
    "    with open('../experiments/experiment_wtk_full.txt', 'a') as file:\n",
    "        file.write(f\"BirdChicken({size_list[index]}) \")\n",
    "    for i in range (1, 6, 2):\n",
    "        accuracy = knn_WTK(X_train=X_train, X_test=X_test, y_train=y_train, y_test=y_test, data_set=\"BirdChicken\", sub_length=kernel, k=i)\n",
    "        with open('../experiments/experiment_wtk_full.txt', 'a') as file:\n",
    "            if i == 5:\n",
    "                file.write(f\"&{round(accuracy, 2)}\\\\\\ \\n\")\n",
    "            else:\n",
    "                file.write(f\"&{round(accuracy, 2)} \")\n",
    "\n",
    "with open('../experiments/experiment_wtk_full.txt', 'a') as file:\n",
    "    file.write(f\"--------------------------------------------------------------------------------------------------\\n\")"
   ]
  },
  {
   "cell_type": "markdown",
   "metadata": {},
   "source": [
    "### Chinatown"
   ]
  },
  {
   "cell_type": "code",
   "execution_count": 27,
   "metadata": {},
   "outputs": [],
   "source": [
    "X_train, y_train, X_test, y_test = getData('Chinatown', '../data/UCR/raw_data/')"
   ]
  },
  {
   "cell_type": "code",
   "execution_count": 28,
   "metadata": {},
   "outputs": [
    {
     "data": {
      "text/plain": [
       "[2, 7, 12, 16, 21]"
      ]
     },
     "execution_count": 28,
     "metadata": {},
     "output_type": "execute_result"
    }
   ],
   "source": [
    "size_array = findTheShortestArray(X_train, X_test)\n",
    "size_array"
   ]
  },
  {
   "cell_type": "code",
   "execution_count": 29,
   "metadata": {},
   "outputs": [
    {
     "name": "stderr",
     "output_type": "stream",
     "text": [
      "100%|██████████| 20/20 [00:03<00:00,  6.28it/s]\n",
      "100%|██████████| 20/20 [00:04<00:00,  4.52it/s]\n",
      "100%|██████████| 20/20 [00:03<00:00,  6.06it/s]\n",
      "100%|██████████| 20/20 [00:02<00:00,  7.02it/s]\n",
      "100%|██████████| 20/20 [00:02<00:00,  7.10it/s]\n",
      "100%|██████████| 20/20 [00:04<00:00,  4.26it/s]\n",
      "100%|██████████| 20/20 [00:03<00:00,  6.31it/s]\n",
      "100%|██████████| 20/20 [00:03<00:00,  6.34it/s]\n",
      "100%|██████████| 20/20 [00:03<00:00,  6.55it/s]\n",
      "100%|██████████| 20/20 [00:02<00:00,  6.85it/s]\n",
      "100%|██████████| 20/20 [00:02<00:00,  7.25it/s]\n",
      "100%|██████████| 20/20 [00:02<00:00,  7.26it/s]\n",
      "100%|██████████| 20/20 [00:02<00:00,  7.21it/s]\n",
      "100%|██████████| 20/20 [00:02<00:00,  6.81it/s]\n",
      "100%|██████████| 20/20 [00:02<00:00,  7.28it/s]\n"
     ]
    }
   ],
   "source": [
    "for index, kernel in enumerate(size_array):\n",
    "    with open('../experiments/experiment_wtk_full.txt', 'a') as file:\n",
    "        file.write(f\"Chinatown({size_list[index]}) \")\n",
    "    for i in range (1, 6, 2):\n",
    "        accuracy = knn_WTK(X_train=X_train, X_test=X_test, y_train=y_train, y_test=y_test, data_set=\"Chinatown\", sub_length=kernel, k=i)\n",
    "        with open('../experiments/experiment_wtk_full.txt', 'a') as file:\n",
    "            if i == 5:\n",
    "                file.write(f\"&{round(accuracy, 2)}\\\\\\ \\n\")\n",
    "            else:\n",
    "                file.write(f\"&{round(accuracy, 2)} \")\n",
    "\n",
    "with open('../experiments/experiment_wtk_full.txt', 'a') as file:\n",
    "    file.write(f\"--------------------------------------------------------------------------------------------------\\n\")"
   ]
  },
  {
   "cell_type": "markdown",
   "metadata": {},
   "source": [
    "### Coffee"
   ]
  },
  {
   "cell_type": "code",
   "execution_count": 30,
   "metadata": {},
   "outputs": [],
   "source": [
    "X_train, y_train, X_test, y_test = getData('Coffee', '../data/UCR/raw_data/')"
   ]
  },
  {
   "cell_type": "code",
   "execution_count": 31,
   "metadata": {},
   "outputs": [
    {
     "data": {
      "text/plain": [
       "[28, 85, 143, 200, 257]"
      ]
     },
     "execution_count": 31,
     "metadata": {},
     "output_type": "execute_result"
    }
   ],
   "source": [
    "size_array = findTheShortestArray(X_train, X_test)\n",
    "size_array"
   ]
  },
  {
   "cell_type": "code",
   "execution_count": 32,
   "metadata": {},
   "outputs": [
    {
     "name": "stderr",
     "output_type": "stream",
     "text": [
      "100%|██████████| 28/28 [00:10<00:00,  2.60it/s]\n",
      "100%|██████████| 28/28 [00:09<00:00,  2.82it/s]\n",
      "100%|██████████| 28/28 [00:09<00:00,  3.07it/s]\n",
      "100%|██████████| 28/28 [00:05<00:00,  5.07it/s]\n",
      "100%|██████████| 28/28 [00:04<00:00,  6.37it/s]\n",
      "100%|██████████| 28/28 [00:04<00:00,  5.66it/s]\n",
      "100%|██████████| 28/28 [00:02<00:00, 10.63it/s]\n",
      "100%|██████████| 28/28 [00:03<00:00,  7.77it/s]\n",
      "100%|██████████| 28/28 [00:02<00:00, 10.06it/s]\n",
      "100%|██████████| 28/28 [00:01<00:00, 17.02it/s]\n",
      "100%|██████████| 28/28 [00:01<00:00, 17.27it/s]\n",
      "100%|██████████| 28/28 [00:02<00:00, 13.32it/s]\n",
      "100%|██████████| 28/28 [00:00<00:00, 43.93it/s]\n",
      "100%|██████████| 28/28 [00:00<00:00, 45.25it/s]\n",
      "100%|██████████| 28/28 [00:00<00:00, 51.17it/s]\n"
     ]
    }
   ],
   "source": [
    "for index, kernel in enumerate(size_array):\n",
    "    with open('../experiments/experiment_wtk_full.txt', 'a') as file:\n",
    "        file.write(f\"Coffee({size_list[index]}) \")\n",
    "    for i in range (1, 6, 2):\n",
    "        accuracy = knn_WTK(X_train=X_train, X_test=X_test, y_train=y_train, y_test=y_test, data_set=\"Coffee\", sub_length=kernel, k=i)\n",
    "        with open('../experiments/experiment_wtk_full.txt', 'a') as file:\n",
    "            if i == 5:\n",
    "                file.write(f\"&{round(accuracy, 2)}\\\\\\ \\n\")\n",
    "            else:\n",
    "                file.write(f\"&{round(accuracy, 2)} \")\n",
    "\n",
    "with open('../experiments/experiment_wtk_full.txt', 'a') as file:\n",
    "    file.write(f\"--------------------------------------------------------------------------------------------------\\n\")"
   ]
  },
  {
   "cell_type": "markdown",
   "metadata": {},
   "source": [
    "### DistalPhalanxOutlineCorrect"
   ]
  },
  {
   "cell_type": "code",
   "execution_count": 33,
   "metadata": {},
   "outputs": [],
   "source": [
    "X_train, y_train, X_test, y_test = getData('DistalPhalanxOutlineCorrect', '../data/UCR/raw_data/')"
   ]
  },
  {
   "cell_type": "code",
   "execution_count": 34,
   "metadata": {},
   "outputs": [
    {
     "data": {
      "text/plain": [
       "[8, 24, 40, 56, 72]"
      ]
     },
     "execution_count": 34,
     "metadata": {},
     "output_type": "execute_result"
    }
   ],
   "source": [
    "size_array = findTheShortestArray(X_train, X_test)\n",
    "size_array"
   ]
  },
  {
   "cell_type": "code",
   "execution_count": 35,
   "metadata": {},
   "outputs": [
    {
     "name": "stderr",
     "output_type": "stream",
     "text": [
      "100%|██████████| 600/600 [03:13<00:00,  3.10it/s]\n",
      "100%|██████████| 600/600 [03:54<00:00,  2.56it/s]\n",
      "100%|██████████| 600/600 [05:05<00:00,  1.96it/s]\n",
      "100%|██████████| 600/600 [04:09<00:00,  2.40it/s]\n",
      "100%|██████████| 600/600 [04:39<00:00,  2.15it/s]\n",
      "100%|██████████| 600/600 [03:47<00:00,  2.64it/s]\n",
      "100%|██████████| 600/600 [03:01<00:00,  3.30it/s]\n",
      "100%|██████████| 600/600 [04:07<00:00,  2.42it/s]\n",
      "100%|██████████| 600/600 [03:30<00:00,  2.86it/s]\n",
      "100%|██████████| 600/600 [02:53<00:00,  3.45it/s]\n",
      "100%|██████████| 600/600 [02:54<00:00,  3.44it/s]\n",
      "100%|██████████| 600/600 [02:34<00:00,  3.87it/s]\n",
      "100%|██████████| 600/600 [02:19<00:00,  4.30it/s]\n",
      "100%|██████████| 600/600 [02:15<00:00,  4.41it/s]\n",
      "100%|██████████| 600/600 [02:26<00:00,  4.08it/s]\n"
     ]
    }
   ],
   "source": [
    "for index, kernel in enumerate(size_array):\n",
    "    with open('../experiments/experiment_wtk_full.txt', 'a') as file:\n",
    "        file.write(f\"DistalPhalanxOutlineCorrect({size_list[index]}) \")\n",
    "    for i in range (1, 6, 2):\n",
    "        accuracy = knn_WTK(X_train=X_train, X_test=X_test, y_train=y_train, y_test=y_test, data_set=\"DistalPhalanxOutlineCorrect\", sub_length=kernel, k=i)\n",
    "        with open('../experiments/experiment_wtk_full.txt', 'a') as file:\n",
    "            if i == 5:\n",
    "                file.write(f\"&{round(accuracy, 2)}\\\\\\ \\n\")\n",
    "            else:\n",
    "                file.write(f\"&{round(accuracy, 2)} \")\n",
    "\n",
    "with open('../experiments/experiment_wtk_full.txt', 'a') as file:\n",
    "    file.write(f\"--------------------------------------------------------------------------------------------------\\n\")"
   ]
  },
  {
   "cell_type": "markdown",
   "metadata": {},
   "source": [
    "### DistalPhalanxTW"
   ]
  },
  {
   "cell_type": "code",
   "execution_count": 3,
   "metadata": {},
   "outputs": [],
   "source": [
    "X_train, y_train, X_test, y_test = getData('DistalPhalanxTW', '../data/UCR/raw_data/')"
   ]
  },
  {
   "cell_type": "code",
   "execution_count": 4,
   "metadata": {},
   "outputs": [
    {
     "data": {
      "text/plain": [
       "[8, 24, 40, 56, 72]"
      ]
     },
     "execution_count": 4,
     "metadata": {},
     "output_type": "execute_result"
    }
   ],
   "source": [
    "size_array = findTheShortestArray(X_train, X_test)\n",
    "size_array"
   ]
  },
  {
   "cell_type": "code",
   "execution_count": 5,
   "metadata": {},
   "outputs": [
    {
     "name": "stderr",
     "output_type": "stream",
     "text": [
      "  0%|          | 0/400 [00:00<?, ?it/s]"
     ]
    },
    {
     "name": "stderr",
     "output_type": "stream",
     "text": [
      "100%|██████████| 400/400 [02:29<00:00,  2.67it/s]\n",
      "100%|██████████| 400/400 [02:58<00:00,  2.24it/s]\n",
      "100%|██████████| 400/400 [02:36<00:00,  2.55it/s]\n",
      "100%|██████████| 400/400 [01:56<00:00,  3.43it/s]\n",
      "100%|██████████| 400/400 [02:01<00:00,  3.30it/s]\n",
      "100%|██████████| 400/400 [02:10<00:00,  3.08it/s]\n",
      "100%|██████████| 400/400 [01:32<00:00,  4.33it/s]\n",
      "100%|██████████| 400/400 [01:32<00:00,  4.31it/s]\n",
      "100%|██████████| 400/400 [01:26<00:00,  4.62it/s]\n",
      "100%|██████████| 400/400 [01:13<00:00,  5.44it/s]\n",
      "100%|██████████| 400/400 [01:14<00:00,  5.34it/s]\n",
      "100%|██████████| 400/400 [01:10<00:00,  5.71it/s]\n",
      "100%|██████████| 400/400 [01:00<00:00,  6.56it/s]\n",
      "100%|██████████| 400/400 [00:59<00:00,  6.68it/s]\n",
      "100%|██████████| 400/400 [01:03<00:00,  6.27it/s]\n"
     ]
    }
   ],
   "source": [
    "for index, kernel in enumerate(size_array):\n",
    "    with open('../experiments/experiment_wtk_full.txt', 'a') as file:\n",
    "        file.write(f\"DistalPhalanxTW({size_list[index]}) \")\n",
    "    for i in range (1, 6, 2):\n",
    "        accuracy = knn_WTK(X_train=X_train, X_test=X_test, y_train=y_train, y_test=y_test, data_set=\"DistalPhalanxTW\", sub_length=kernel, k=i)\n",
    "        with open('../experiments/experiment_wtk_full.txt', 'a') as file:\n",
    "            if i == 5:\n",
    "                file.write(f\"&{round(accuracy, 2)}\\\\\\ \\n\")\n",
    "            else:\n",
    "                file.write(f\"&{round(accuracy, 2)} \")\n",
    "\n",
    "with open('../experiments/experiment_wtk_full.txt', 'a') as file:\n",
    "    file.write(f\"--------------------------------------------------------------------------------------------------\\n\")"
   ]
  },
  {
   "cell_type": "markdown",
   "metadata": {},
   "source": [
    "### ECG200"
   ]
  },
  {
   "cell_type": "code",
   "execution_count": 6,
   "metadata": {},
   "outputs": [],
   "source": [
    "X_train, y_train, X_test, y_test = getData('ECG200', '../data/UCR/raw_data/')"
   ]
  },
  {
   "cell_type": "code",
   "execution_count": 7,
   "metadata": {},
   "outputs": [
    {
     "data": {
      "text/plain": [
       "[9, 28, 48, 67, 86]"
      ]
     },
     "execution_count": 7,
     "metadata": {},
     "output_type": "execute_result"
    }
   ],
   "source": [
    "size_array = findTheShortestArray(X_train, X_test)\n",
    "size_array"
   ]
  },
  {
   "cell_type": "code",
   "execution_count": 8,
   "metadata": {},
   "outputs": [
    {
     "name": "stderr",
     "output_type": "stream",
     "text": [
      "100%|██████████| 100/100 [00:39<00:00,  2.52it/s]\n",
      "100%|██████████| 100/100 [00:36<00:00,  2.77it/s]\n",
      "100%|██████████| 100/100 [00:22<00:00,  4.38it/s]\n",
      "100%|██████████| 100/100 [00:10<00:00,  9.65it/s]\n",
      "100%|██████████| 100/100 [00:10<00:00,  9.68it/s]\n",
      "100%|██████████| 100/100 [00:10<00:00,  9.57it/s]\n",
      "100%|██████████| 100/100 [00:07<00:00, 14.08it/s]\n",
      "100%|██████████| 100/100 [00:07<00:00, 14.01it/s]\n",
      "100%|██████████| 100/100 [00:07<00:00, 14.09it/s]\n",
      "100%|██████████| 100/100 [00:05<00:00, 19.51it/s]\n",
      "100%|██████████| 100/100 [00:05<00:00, 19.96it/s]\n",
      "100%|██████████| 100/100 [00:05<00:00, 19.46it/s]\n",
      "100%|██████████| 100/100 [00:03<00:00, 25.72it/s]\n",
      "100%|██████████| 100/100 [00:03<00:00, 26.28it/s]\n",
      "100%|██████████| 100/100 [00:03<00:00, 26.19it/s]\n"
     ]
    }
   ],
   "source": [
    "for index, kernel in enumerate(size_array):\n",
    "    with open('../experiments/experiment_wtk_full.txt', 'a') as file:\n",
    "        file.write(f\"ECG200({size_list[index]}) \")\n",
    "    for i in range (1, 6, 2):\n",
    "        accuracy = knn_WTK(X_train=X_train, X_test=X_test, y_train=y_train, y_test=y_test, data_set=\"ECG200\", sub_length=kernel, k=i)\n",
    "        with open('../experiments/experiment_wtk_full.txt', 'a') as file:\n",
    "            if i == 5:\n",
    "                file.write(f\"&{round(accuracy, 2)}\\\\\\ \\n\")\n",
    "            else:\n",
    "                file.write(f\"&{round(accuracy, 2)} \")\n",
    "\n",
    "with open('../experiments/experiment_wtk_full.txt', 'a') as file:\n",
    "    file.write(f\"--------------------------------------------------------------------------------------------------\\n\")"
   ]
  },
  {
   "cell_type": "markdown",
   "metadata": {},
   "source": [
    "### FaceFour"
   ]
  },
  {
   "cell_type": "code",
   "execution_count": 9,
   "metadata": {},
   "outputs": [],
   "source": [
    "X_train, y_train, X_test, y_test = getData('FaceFour', '../data/UCR/raw_data/')"
   ]
  },
  {
   "cell_type": "code",
   "execution_count": 10,
   "metadata": {},
   "outputs": [
    {
     "data": {
      "text/plain": [
       "[35, 105, 175, 245, 315]"
      ]
     },
     "execution_count": 10,
     "metadata": {},
     "output_type": "execute_result"
    }
   ],
   "source": [
    "size_array = findTheShortestArray(X_train, X_test)\n",
    "size_array"
   ]
  },
  {
   "cell_type": "code",
   "execution_count": 11,
   "metadata": {},
   "outputs": [
    {
     "name": "stderr",
     "output_type": "stream",
     "text": [
      "100%|██████████| 24/24 [00:37<00:00,  1.56s/it]\n",
      "100%|██████████| 24/24 [00:43<00:00,  1.82s/it]\n",
      "100%|██████████| 24/24 [00:51<00:00,  2.14s/it]\n",
      "100%|██████████| 24/24 [00:30<00:00,  1.27s/it]\n",
      "100%|██████████| 24/24 [00:30<00:00,  1.28s/it]\n",
      "100%|██████████| 24/24 [00:30<00:00,  1.28s/it]\n",
      "100%|██████████| 24/24 [00:16<00:00,  1.43it/s]\n",
      "100%|██████████| 24/24 [00:17<00:00,  1.41it/s]\n",
      "100%|██████████| 24/24 [00:17<00:00,  1.41it/s]\n",
      "100%|██████████| 24/24 [00:07<00:00,  3.29it/s]\n",
      "100%|██████████| 24/24 [00:07<00:00,  3.33it/s]\n",
      "100%|██████████| 24/24 [00:07<00:00,  3.32it/s]\n",
      "100%|██████████| 24/24 [00:02<00:00,  8.89it/s]\n",
      "100%|██████████| 24/24 [00:02<00:00,  8.81it/s]\n",
      "100%|██████████| 24/24 [00:02<00:00,  9.50it/s]\n"
     ]
    }
   ],
   "source": [
    "for index, kernel in enumerate(size_array):\n",
    "    with open('../experiments/experiment_wtk_full.txt', 'a') as file:\n",
    "        file.write(f\"FaceFour({size_list[index]}) \")\n",
    "    for i in range (1, 6, 2):\n",
    "        accuracy = knn_WTK(X_train=X_train, X_test=X_test, y_train=y_train, y_test=y_test, data_set=\"FaceFour\", sub_length=kernel, k=i)\n",
    "        with open('../experiments/experiment_wtk_full.txt', 'a') as file:\n",
    "            if i == 5:\n",
    "                file.write(f\"&{round(accuracy, 2)}\\\\\\ \\n\")\n",
    "            else:\n",
    "                file.write(f\"&{round(accuracy, 2)} \")\n",
    "\n",
    "with open('../experiments/experiment_wtk_full.txt', 'a') as file:\n",
    "    file.write(f\"--------------------------------------------------------------------------------------------------\\n\")"
   ]
  },
  {
   "cell_type": "markdown",
   "metadata": {},
   "source": [
    "### Fungi"
   ]
  },
  {
   "cell_type": "code",
   "execution_count": 12,
   "metadata": {},
   "outputs": [],
   "source": [
    "X_train, y_train, X_test, y_test = getData('Fungi', '../data/UCR/raw_data/')"
   ]
  },
  {
   "cell_type": "code",
   "execution_count": 13,
   "metadata": {},
   "outputs": [
    {
     "data": {
      "text/plain": [
       "[20, 60, 100, 140, 180]"
      ]
     },
     "execution_count": 13,
     "metadata": {},
     "output_type": "execute_result"
    }
   ],
   "source": [
    "size_array = findTheShortestArray(X_train, X_test)\n",
    "size_array"
   ]
  },
  {
   "cell_type": "code",
   "execution_count": 14,
   "metadata": {},
   "outputs": [
    {
     "name": "stderr",
     "output_type": "stream",
     "text": [
      "100%|██████████| 18/18 [00:28<00:00,  1.56s/it]\n",
      "100%|██████████| 18/18 [00:27<00:00,  1.53s/it]\n",
      "100%|██████████| 18/18 [00:27<00:00,  1.54s/it]\n",
      "100%|██████████| 18/18 [00:17<00:00,  1.01it/s]\n",
      "100%|██████████| 18/18 [00:17<00:00,  1.01it/s]\n",
      "100%|██████████| 18/18 [00:17<00:00,  1.02it/s]\n",
      "100%|██████████| 18/18 [00:11<00:00,  1.58it/s]\n",
      "100%|██████████| 18/18 [00:13<00:00,  1.30it/s]\n",
      "100%|██████████| 18/18 [00:22<00:00,  1.24s/it]\n",
      "100%|██████████| 18/18 [00:12<00:00,  1.45it/s]\n",
      "100%|██████████| 18/18 [00:10<00:00,  1.69it/s]\n",
      "100%|██████████| 18/18 [00:09<00:00,  1.96it/s]\n",
      "100%|██████████| 18/18 [00:04<00:00,  4.46it/s]\n",
      "100%|██████████| 18/18 [00:03<00:00,  4.97it/s]\n",
      "100%|██████████| 18/18 [00:03<00:00,  4.81it/s]\n"
     ]
    }
   ],
   "source": [
    "for index, kernel in enumerate(size_array):\n",
    "    with open('../experiments/experiment_wtk_full.txt', 'a') as file:\n",
    "        file.write(f\"Fungi({size_list[index]}) \")\n",
    "    for i in range (1, 6, 2):\n",
    "        accuracy = knn_WTK(X_train=X_train, X_test=X_test, y_train=y_train, y_test=y_test, data_set=\"Fungi\", sub_length=kernel, k=i)\n",
    "        with open('../experiments/experiment_wtk_full.txt', 'a') as file:\n",
    "            if i == 5:\n",
    "                file.write(f\"&{round(accuracy, 2)}\\\\\\ \\n\")\n",
    "            else:\n",
    "                file.write(f\"&{round(accuracy, 2)} \")\n",
    "\n",
    "with open('../experiments/experiment_wtk_full.txt', 'a') as file:\n",
    "    file.write(f\"--------------------------------------------------------------------------------------------------\\n\")"
   ]
  },
  {
   "cell_type": "markdown",
   "metadata": {},
   "source": [
    "### GunPoint"
   ]
  },
  {
   "cell_type": "code",
   "execution_count": 15,
   "metadata": {},
   "outputs": [],
   "source": [
    "X_train, y_train, X_test, y_test = getData('GunPoint', '../data/UCR/raw_data/')"
   ]
  },
  {
   "cell_type": "code",
   "execution_count": 16,
   "metadata": {},
   "outputs": [
    {
     "data": {
      "text/plain": [
       "[15, 45, 75, 105, 135]"
      ]
     },
     "execution_count": 16,
     "metadata": {},
     "output_type": "execute_result"
    }
   ],
   "source": [
    "size_array = findTheShortestArray(X_train, X_test)\n",
    "size_array"
   ]
  },
  {
   "cell_type": "code",
   "execution_count": 17,
   "metadata": {},
   "outputs": [
    {
     "name": "stderr",
     "output_type": "stream",
     "text": [
      "100%|██████████| 50/50 [00:47<00:00,  1.06it/s]\n",
      "100%|██████████| 50/50 [00:45<00:00,  1.10it/s]\n",
      "100%|██████████| 50/50 [00:37<00:00,  1.32it/s]\n",
      "100%|██████████| 50/50 [00:26<00:00,  1.88it/s]\n",
      "100%|██████████| 50/50 [00:26<00:00,  1.88it/s]\n",
      "100%|██████████| 50/50 [00:26<00:00,  1.89it/s]\n",
      "100%|██████████| 50/50 [00:16<00:00,  3.03it/s]\n",
      "100%|██████████| 50/50 [00:16<00:00,  3.03it/s]\n",
      "100%|██████████| 50/50 [00:16<00:00,  3.12it/s]\n",
      "100%|██████████| 50/50 [00:07<00:00,  6.68it/s]\n",
      "100%|██████████| 50/50 [00:07<00:00,  6.89it/s]\n",
      "100%|██████████| 50/50 [00:07<00:00,  6.98it/s]\n",
      "100%|██████████| 50/50 [00:04<00:00, 11.84it/s]\n",
      "100%|██████████| 50/50 [00:03<00:00, 12.68it/s]\n",
      "100%|██████████| 50/50 [00:03<00:00, 12.79it/s]\n"
     ]
    }
   ],
   "source": [
    "for index, kernel in enumerate(size_array):\n",
    "    with open('../experiments/experiment_wtk_full.txt', 'a') as file:\n",
    "        file.write(f\"GunPoint({size_list[index]}) \")\n",
    "    for i in range (1, 6, 2):\n",
    "        accuracy = knn_WTK(X_train=X_train, X_test=X_test, y_train=y_train, y_test=y_test, data_set=\"GunPoint\", sub_length=kernel, k=i)\n",
    "        with open('../experiments/experiment_wtk_full.txt', 'a') as file:\n",
    "            if i == 5:\n",
    "                file.write(f\"&{round(accuracy, 2)}\\\\\\ \\n\")\n",
    "            else:\n",
    "                file.write(f\"&{round(accuracy, 2)} \")\n",
    "\n",
    "with open('../experiments/experiment_wtk_full.txt', 'a') as file:\n",
    "    file.write(f\"--------------------------------------------------------------------------------------------------\\n\")"
   ]
  },
  {
   "cell_type": "markdown",
   "metadata": {},
   "source": [
    "### Herring"
   ]
  },
  {
   "cell_type": "code",
   "execution_count": 18,
   "metadata": {},
   "outputs": [],
   "source": [
    "X_train, y_train, X_test, y_test = getData('Herring', '../data/UCR/raw_data/')"
   ]
  },
  {
   "cell_type": "code",
   "execution_count": 19,
   "metadata": {},
   "outputs": [
    {
     "data": {
      "text/plain": [
       "[51, 153, 256, 358, 460]"
      ]
     },
     "execution_count": 19,
     "metadata": {},
     "output_type": "execute_result"
    }
   ],
   "source": [
    "size_array = findTheShortestArray(X_train, X_test)\n",
    "size_array"
   ]
  },
  {
   "cell_type": "code",
   "execution_count": 20,
   "metadata": {},
   "outputs": [
    {
     "name": "stderr",
     "output_type": "stream",
     "text": [
      "100%|██████████| 64/64 [04:20<00:00,  4.07s/it]\n",
      "100%|██████████| 64/64 [04:04<00:00,  3.83s/it]\n",
      "100%|██████████| 64/64 [09:58<00:00,  9.35s/it]\n",
      "100%|██████████| 64/64 [05:32<00:00,  5.20s/it]\n",
      "100%|██████████| 64/64 [05:27<00:00,  5.11s/it]\n",
      "100%|██████████| 64/64 [05:27<00:00,  5.11s/it]\n",
      "100%|██████████| 64/64 [02:59<00:00,  2.81s/it]\n",
      "100%|██████████| 64/64 [03:00<00:00,  2.82s/it]\n",
      "100%|██████████| 64/64 [02:59<00:00,  2.81s/it]\n",
      "100%|██████████| 64/64 [01:00<00:00,  1.05it/s]\n",
      "100%|██████████| 64/64 [01:01<00:00,  1.05it/s]\n",
      "100%|██████████| 64/64 [01:01<00:00,  1.04it/s]\n",
      "100%|██████████| 64/64 [00:12<00:00,  4.93it/s]\n",
      "100%|██████████| 64/64 [00:13<00:00,  4.86it/s]\n",
      "100%|██████████| 64/64 [00:13<00:00,  4.85it/s]\n"
     ]
    }
   ],
   "source": [
    "for index, kernel in enumerate(size_array):\n",
    "    with open('../experiments/experiment_wtk_full.txt', 'a') as file:\n",
    "        file.write(f\"Herring({size_list[index]}) \")\n",
    "    for i in range (1, 6, 2):\n",
    "        accuracy = knn_WTK(X_train=X_train, X_test=X_test, y_train=y_train, y_test=y_test, data_set=\"Herring\", sub_length=kernel, k=i)\n",
    "        with open('../experiments/experiment_wtk_full.txt', 'a') as file:\n",
    "            if i == 5:\n",
    "                file.write(f\"&{round(accuracy, 2)}\\\\\\ \\n\")\n",
    "            else:\n",
    "                file.write(f\"&{round(accuracy, 2)} \")\n",
    "\n",
    "with open('../experiments/experiment_wtk_full.txt', 'a') as file:\n",
    "    file.write(f\"--------------------------------------------------------------------------------------------------\\n\")"
   ]
  },
  {
   "cell_type": "markdown",
   "metadata": {},
   "source": [
    "### ItalyPowerDemand"
   ]
  },
  {
   "cell_type": "code",
   "execution_count": 3,
   "metadata": {},
   "outputs": [],
   "source": [
    "X_train, y_train, X_test, y_test = getData('ItalyPowerDemand', '../data/UCR/raw_data/')"
   ]
  },
  {
   "cell_type": "code",
   "execution_count": 5,
   "metadata": {},
   "outputs": [
    {
     "data": {
      "text/plain": [
       "[2, 7, 12, 16, 21]"
      ]
     },
     "execution_count": 5,
     "metadata": {},
     "output_type": "execute_result"
    }
   ],
   "source": [
    "size_array = findTheShortestArray(X_train, X_test)\n",
    "size_array"
   ]
  },
  {
   "cell_type": "code",
   "execution_count": 6,
   "metadata": {},
   "outputs": [
    {
     "name": "stderr",
     "output_type": "stream",
     "text": [
      "100%|██████████| 67/67 [00:51<00:00,  1.30it/s]\n",
      "100%|██████████| 67/67 [00:41<00:00,  1.60it/s]\n",
      "100%|██████████| 67/67 [00:36<00:00,  1.83it/s]\n",
      "100%|██████████| 67/67 [00:34<00:00,  1.93it/s]\n",
      "100%|██████████| 67/67 [00:35<00:00,  1.90it/s]\n",
      "100%|██████████| 67/67 [00:40<00:00,  1.64it/s]\n",
      "100%|██████████| 67/67 [00:34<00:00,  1.97it/s]\n",
      "100%|██████████| 67/67 [00:35<00:00,  1.86it/s]\n",
      "100%|██████████| 67/67 [00:31<00:00,  2.15it/s]\n",
      "100%|██████████| 67/67 [00:27<00:00,  2.40it/s]\n",
      "100%|██████████| 67/67 [00:27<00:00,  2.41it/s]\n",
      "100%|██████████| 67/67 [00:28<00:00,  2.37it/s]\n",
      "100%|██████████| 67/67 [00:27<00:00,  2.47it/s]\n",
      "100%|██████████| 67/67 [00:27<00:00,  2.44it/s]\n",
      "100%|██████████| 67/67 [00:27<00:00,  2.45it/s]\n"
     ]
    }
   ],
   "source": [
    "for index, kernel in enumerate(size_array):\n",
    "    with open('../experiments/experiment_wtk_full.txt', 'a') as file:\n",
    "        file.write(f\"ItalyPowerDemand({size_list[index]}) \")\n",
    "    for i in range (1, 6, 2):\n",
    "        accuracy = knn_WTK(X_train=X_train, X_test=X_test, y_train=y_train, y_test=y_test, data_set=\"ItalyPowerDemand\", sub_length=kernel, k=i)\n",
    "        with open('../experiments/experiment_wtk_full.txt', 'a') as file:\n",
    "            if i == 5:\n",
    "                file.write(f\"&{round(accuracy, 2)}\\\\\\ \\n\")\n",
    "            else:\n",
    "                file.write(f\"&{round(accuracy, 2)} \")\n",
    "\n",
    "with open('../experiments/experiment_wtk_full.txt', 'a') as file:\n",
    "    file.write(f\"--------------------------------------------------------------------------------------------------\\n\")"
   ]
  },
  {
   "cell_type": "markdown",
   "metadata": {},
   "source": [
    "### MoteStrain"
   ]
  },
  {
   "cell_type": "code",
   "execution_count": 7,
   "metadata": {},
   "outputs": [],
   "source": [
    "X_train, y_train, X_test, y_test = getData('MoteStrain', '../data/UCR/raw_data/')"
   ]
  },
  {
   "cell_type": "code",
   "execution_count": 8,
   "metadata": {},
   "outputs": [
    {
     "data": {
      "text/plain": [
       "[8, 25, 42, 58, 75]"
      ]
     },
     "execution_count": 8,
     "metadata": {},
     "output_type": "execute_result"
    }
   ],
   "source": [
    "size_array = findTheShortestArray(X_train, X_test)\n",
    "size_array"
   ]
  },
  {
   "cell_type": "code",
   "execution_count": 9,
   "metadata": {},
   "outputs": [
    {
     "name": "stderr",
     "output_type": "stream",
     "text": [
      "100%|██████████| 20/20 [00:39<00:00,  1.98s/it]\n",
      "100%|██████████| 20/20 [00:38<00:00,  1.92s/it]\n",
      "100%|██████████| 20/20 [00:37<00:00,  1.89s/it]\n",
      "100%|██████████| 20/20 [00:28<00:00,  1.43s/it]\n",
      "100%|██████████| 20/20 [00:29<00:00,  1.46s/it]\n",
      "100%|██████████| 20/20 [00:28<00:00,  1.43s/it]\n",
      "100%|██████████| 20/20 [00:20<00:00,  1.01s/it]\n",
      "100%|██████████| 20/20 [00:20<00:00,  1.02s/it]\n",
      "100%|██████████| 20/20 [00:20<00:00,  1.00s/it]\n",
      "100%|██████████| 20/20 [00:14<00:00,  1.36it/s]\n",
      "100%|██████████| 20/20 [00:14<00:00,  1.34it/s]\n",
      "100%|██████████| 20/20 [00:14<00:00,  1.41it/s]\n",
      "100%|██████████| 20/20 [00:10<00:00,  1.90it/s]\n",
      "100%|██████████| 20/20 [00:10<00:00,  1.83it/s]\n",
      "100%|██████████| 20/20 [00:10<00:00,  1.88it/s]\n"
     ]
    }
   ],
   "source": [
    "for index, kernel in enumerate(size_array):\n",
    "    with open('../experiments/experiment_wtk_full.txt', 'a') as file:\n",
    "        file.write(f\"MoteStrain({size_list[index]}) \")\n",
    "    for i in range (1, 6, 2):\n",
    "        accuracy = knn_WTK(X_train=X_train, X_test=X_test, y_train=y_train, y_test=y_test, data_set=\"MoteStrain\", sub_length=kernel, k=i)\n",
    "        with open('../experiments/experiment_wtk_full.txt', 'a') as file:\n",
    "            if i == 5:\n",
    "                file.write(f\"&{round(accuracy, 2)}\\\\\\ \\n\")\n",
    "            else:\n",
    "                file.write(f\"&{round(accuracy, 2)} \")\n",
    "\n",
    "with open('../experiments/experiment_wtk_full.txt', 'a') as file:\n",
    "    file.write(f\"--------------------------------------------------------------------------------------------------\\n\")"
   ]
  },
  {
   "cell_type": "markdown",
   "metadata": {},
   "source": [
    "### OliveOil"
   ]
  },
  {
   "cell_type": "code",
   "execution_count": 10,
   "metadata": {},
   "outputs": [],
   "source": [
    "X_train, y_train, X_test, y_test = getData('OliveOil', '../data/UCR/raw_data/')"
   ]
  },
  {
   "cell_type": "code",
   "execution_count": 11,
   "metadata": {},
   "outputs": [
    {
     "data": {
      "text/plain": [
       "[57, 171, 285, 399, 513]"
      ]
     },
     "execution_count": 11,
     "metadata": {},
     "output_type": "execute_result"
    }
   ],
   "source": [
    "size_array = findTheShortestArray(X_train, X_test)\n",
    "size_array"
   ]
  },
  {
   "cell_type": "code",
   "execution_count": 12,
   "metadata": {},
   "outputs": [
    {
     "name": "stderr",
     "output_type": "stream",
     "text": [
      "100%|██████████| 30/30 [00:48<00:00,  1.62s/it]\n",
      "100%|██████████| 30/30 [00:49<00:00,  1.64s/it]\n",
      "100%|██████████| 30/30 [00:47<00:00,  1.58s/it]\n",
      "100%|██████████| 30/30 [00:18<00:00,  1.61it/s]\n",
      "100%|██████████| 30/30 [00:19<00:00,  1.55it/s]\n",
      "100%|██████████| 30/30 [00:19<00:00,  1.57it/s]\n",
      "100%|██████████| 30/30 [00:12<00:00,  2.36it/s]\n",
      "100%|██████████| 30/30 [00:12<00:00,  2.36it/s]\n",
      "100%|██████████| 30/30 [00:12<00:00,  2.37it/s]\n",
      "100%|██████████| 30/30 [00:04<00:00,  7.14it/s]\n",
      "100%|██████████| 30/30 [00:04<00:00,  6.36it/s]\n",
      "100%|██████████| 30/30 [00:03<00:00,  7.57it/s]\n",
      "100%|██████████| 30/30 [00:01<00:00, 23.16it/s]\n",
      "100%|██████████| 30/30 [00:01<00:00, 24.81it/s]\n",
      "100%|██████████| 30/30 [00:01<00:00, 24.53it/s]\n"
     ]
    }
   ],
   "source": [
    "for index, kernel in enumerate(size_array):\n",
    "    with open('../experiments/experiment_wtk_full.txt', 'a') as file:\n",
    "        file.write(f\"OliveOil({size_list[index]}) \")\n",
    "    for i in range (1, 6, 2):\n",
    "        accuracy = knn_WTK(X_train=X_train, X_test=X_test, y_train=y_train, y_test=y_test, data_set=\"OliveOil\", sub_length=kernel, k=i)\n",
    "        with open('../experiments/experiment_wtk_full.txt', 'a') as file:\n",
    "            if i == 5:\n",
    "                file.write(f\"&{round(accuracy, 2)}\\\\\\ \\n\")\n",
    "            else:\n",
    "                file.write(f\"&{round(accuracy, 2)} \")\n",
    "\n",
    "with open('../experiments/experiment_wtk_full.txt', 'a') as file:\n",
    "    file.write(f\"--------------------------------------------------------------------------------------------------\\n\")"
   ]
  },
  {
   "cell_type": "markdown",
   "metadata": {},
   "source": [
    "### Plane"
   ]
  },
  {
   "cell_type": "code",
   "execution_count": 13,
   "metadata": {},
   "outputs": [],
   "source": [
    "X_train, y_train, X_test, y_test = getData('Plane', '../data/UCR/raw_data/')"
   ]
  },
  {
   "cell_type": "code",
   "execution_count": 14,
   "metadata": {},
   "outputs": [
    {
     "data": {
      "text/plain": [
       "[14, 43, 72, 100, 129]"
      ]
     },
     "execution_count": 14,
     "metadata": {},
     "output_type": "execute_result"
    }
   ],
   "source": [
    "size_array = findTheShortestArray(X_train, X_test)\n",
    "size_array"
   ]
  },
  {
   "cell_type": "code",
   "execution_count": 15,
   "metadata": {},
   "outputs": [
    {
     "name": "stderr",
     "output_type": "stream",
     "text": [
      "100%|██████████| 105/105 [00:37<00:00,  2.77it/s]\n",
      "100%|██████████| 105/105 [00:38<00:00,  2.74it/s]\n",
      "100%|██████████| 105/105 [00:37<00:00,  2.83it/s]\n",
      "100%|██████████| 105/105 [00:40<00:00,  2.57it/s]\n",
      "100%|██████████| 105/105 [00:39<00:00,  2.64it/s]\n",
      "100%|██████████| 105/105 [00:41<00:00,  2.52it/s]\n",
      "100%|██████████| 105/105 [00:28<00:00,  3.65it/s]\n",
      "100%|██████████| 105/105 [00:27<00:00,  3.78it/s]\n",
      "100%|██████████| 105/105 [00:27<00:00,  3.79it/s]\n",
      "100%|██████████| 105/105 [00:11<00:00,  9.27it/s]\n",
      "100%|██████████| 105/105 [00:10<00:00,  9.74it/s]\n",
      "100%|██████████| 105/105 [00:09<00:00, 10.65it/s]\n",
      "100%|██████████| 105/105 [00:06<00:00, 15.19it/s]\n",
      "100%|██████████| 105/105 [00:06<00:00, 16.51it/s]\n",
      "100%|██████████| 105/105 [00:06<00:00, 15.49it/s]\n"
     ]
    }
   ],
   "source": [
    "for index, kernel in enumerate(size_array):\n",
    "    with open('../experiments/experiment_wtk_full.txt', 'a') as file:\n",
    "        file.write(f\"Plane({size_list[index]}) \")\n",
    "    for i in range (1, 6, 2):\n",
    "        accuracy = knn_WTK(X_train=X_train, X_test=X_test, y_train=y_train, y_test=y_test, data_set=\"Plane\", sub_length=kernel, k=i)\n",
    "        with open('../experiments/experiment_wtk_full.txt', 'a') as file:\n",
    "            if i == 5:\n",
    "                file.write(f\"&{round(accuracy, 2)}\\\\\\ \\n\")\n",
    "            else:\n",
    "                file.write(f\"&{round(accuracy, 2)} \")\n",
    "\n",
    "with open('../experiments/experiment_wtk_full.txt', 'a') as file:\n",
    "    file.write(f\"--------------------------------------------------------------------------------------------------\\n\")"
   ]
  },
  {
   "cell_type": "markdown",
   "metadata": {},
   "source": [
    "### SmoothSubspace"
   ]
  },
  {
   "cell_type": "code",
   "execution_count": 16,
   "metadata": {},
   "outputs": [],
   "source": [
    "X_train, y_train, X_test, y_test = getData('SmoothSubspace', '../data/UCR/raw_data/')"
   ]
  },
  {
   "cell_type": "code",
   "execution_count": 17,
   "metadata": {},
   "outputs": [
    {
     "data": {
      "text/plain": [
       "[1, 4, 7, 10, 13]"
      ]
     },
     "execution_count": 17,
     "metadata": {},
     "output_type": "execute_result"
    }
   ],
   "source": [
    "size_array = findTheShortestArray(X_train, X_test)\n",
    "size_array"
   ]
  },
  {
   "cell_type": "code",
   "execution_count": 18,
   "metadata": {},
   "outputs": [
    {
     "name": "stderr",
     "output_type": "stream",
     "text": [
      "100%|██████████| 150/150 [00:11<00:00, 12.65it/s]\n",
      "100%|██████████| 150/150 [00:11<00:00, 12.63it/s]\n",
      "100%|██████████| 150/150 [00:11<00:00, 12.80it/s]\n",
      "100%|██████████| 150/150 [00:12<00:00, 12.50it/s]\n",
      "100%|██████████| 150/150 [00:11<00:00, 12.57it/s]\n",
      "100%|██████████| 150/150 [34:28<00:00, 13.79s/it]   \n",
      "100%|██████████| 150/150 [00:12<00:00, 12.25it/s]\n",
      "100%|██████████| 150/150 [00:09<00:00, 16.22it/s]\n",
      "100%|██████████| 150/150 [00:10<00:00, 14.24it/s]\n",
      "100%|██████████| 150/150 [00:10<00:00, 14.43it/s]\n",
      "100%|██████████| 150/150 [00:07<00:00, 20.12it/s]\n",
      "100%|██████████| 150/150 [00:07<00:00, 19.39it/s]\n",
      "100%|██████████| 150/150 [00:07<00:00, 20.39it/s]\n",
      "100%|██████████| 150/150 [00:07<00:00, 19.59it/s]\n",
      "100%|██████████| 150/150 [00:07<00:00, 18.86it/s]\n"
     ]
    }
   ],
   "source": [
    "for index, kernel in enumerate(size_array):\n",
    "    with open('../experiments/experiment_wtk_full.txt', 'a') as file:\n",
    "        file.write(f\"SmoothSubspace({size_list[index]}) \")\n",
    "    for i in range (1, 6, 2):\n",
    "        accuracy = knn_WTK(X_train=X_train, X_test=X_test, y_train=y_train, y_test=y_test, data_set=\"SmoothSubspace\", sub_length=kernel, k=i)\n",
    "        with open('../experiments/experiment_wtk_full.txt', 'a') as file:\n",
    "            if i == 5:\n",
    "                file.write(f\"&{round(accuracy, 2)}\\\\\\ \\n\")\n",
    "            else:\n",
    "                file.write(f\"&{round(accuracy, 2)} \")\n",
    "\n",
    "with open('../experiments/experiment_wtk_full.txt', 'a') as file:\n",
    "    file.write(f\"--------------------------------------------------------------------------------------------------\\n\")"
   ]
  },
  {
   "cell_type": "markdown",
   "metadata": {},
   "source": [
    "### SonyAIBORobotSurface1"
   ]
  },
  {
   "cell_type": "code",
   "execution_count": 19,
   "metadata": {},
   "outputs": [],
   "source": [
    "X_train, y_train, X_test, y_test = getData('SonyAIBORobotSurface1', '../data/UCR/raw_data/')"
   ]
  },
  {
   "cell_type": "code",
   "execution_count": 20,
   "metadata": {},
   "outputs": [
    {
     "data": {
      "text/plain": [
       "[7, 21, 35, 49, 63]"
      ]
     },
     "execution_count": 20,
     "metadata": {},
     "output_type": "execute_result"
    }
   ],
   "source": [
    "size_array = findTheShortestArray(X_train, X_test)\n",
    "size_array"
   ]
  },
  {
   "cell_type": "code",
   "execution_count": 21,
   "metadata": {},
   "outputs": [
    {
     "name": "stderr",
     "output_type": "stream",
     "text": [
      "100%|██████████| 20/20 [00:13<00:00,  1.52it/s]\n",
      "100%|██████████| 20/20 [00:13<00:00,  1.47it/s]\n",
      "100%|██████████| 20/20 [00:13<00:00,  1.45it/s]\n",
      "100%|██████████| 20/20 [00:11<00:00,  1.80it/s]\n",
      "100%|██████████| 20/20 [00:10<00:00,  1.88it/s]\n",
      "100%|██████████| 20/20 [00:10<00:00,  1.91it/s]\n",
      "100%|██████████| 20/20 [00:08<00:00,  2.47it/s]\n",
      "100%|██████████| 20/20 [00:07<00:00,  2.54it/s]\n",
      "100%|██████████| 20/20 [00:08<00:00,  2.48it/s]\n",
      "100%|██████████| 20/20 [00:05<00:00,  3.34it/s]\n",
      "100%|██████████| 20/20 [00:06<00:00,  3.24it/s]\n",
      "100%|██████████| 20/20 [00:06<00:00,  3.21it/s]\n",
      "100%|██████████| 20/20 [00:05<00:00,  3.72it/s]\n",
      "100%|██████████| 20/20 [00:05<00:00,  3.86it/s]\n",
      "100%|██████████| 20/20 [00:05<00:00,  3.81it/s]\n"
     ]
    }
   ],
   "source": [
    "for index, kernel in enumerate(size_array):\n",
    "    with open('../experiments/experiment_wtk_full.txt', 'a') as file:\n",
    "        file.write(f\"SonyAIBORobotSurface1({size_list[index]}) \")\n",
    "    for i in range (1, 6, 2):\n",
    "        accuracy = knn_WTK(X_train=X_train, X_test=X_test, y_train=y_train, y_test=y_test, data_set=\"SonyAIBORobotSurface1\", sub_length=kernel, k=i)\n",
    "        with open('../experiments/experiment_wtk_full.txt', 'a') as file:\n",
    "            if i == 5:\n",
    "                file.write(f\"&{round(accuracy, 2)}\\\\\\ \\n\")\n",
    "            else:\n",
    "                file.write(f\"&{round(accuracy, 2)} \")\n",
    "\n",
    "with open('../experiments/experiment_wtk_full.txt', 'a') as file:\n",
    "    file.write(f\"--------------------------------------------------------------------------------------------------\\n\")"
   ]
  },
  {
   "cell_type": "markdown",
   "metadata": {},
   "source": [
    "### SonyAIBORobotSurface2"
   ]
  },
  {
   "cell_type": "code",
   "execution_count": 22,
   "metadata": {},
   "outputs": [],
   "source": [
    "X_train, y_train, X_test, y_test = getData('SonyAIBORobotSurface2', '../data/UCR/raw_data/')"
   ]
  },
  {
   "cell_type": "code",
   "execution_count": 23,
   "metadata": {},
   "outputs": [
    {
     "data": {
      "text/plain": [
       "[6, 19, 32, 45, 58]"
      ]
     },
     "execution_count": 23,
     "metadata": {},
     "output_type": "execute_result"
    }
   ],
   "source": [
    "size_array = findTheShortestArray(X_train, X_test)\n",
    "size_array"
   ]
  },
  {
   "cell_type": "code",
   "execution_count": 24,
   "metadata": {},
   "outputs": [
    {
     "name": "stderr",
     "output_type": "stream",
     "text": [
      "100%|██████████| 27/27 [00:27<00:00,  1.03s/it]\n",
      "100%|██████████| 27/27 [00:27<00:00,  1.03s/it]\n",
      "100%|██████████| 27/27 [00:27<00:00,  1.03s/it]\n",
      "100%|██████████| 27/27 [00:24<00:00,  1.11it/s]\n",
      "100%|██████████| 27/27 [00:23<00:00,  1.16it/s]\n",
      "100%|██████████| 27/27 [00:23<00:00,  1.17it/s]\n",
      "100%|██████████| 27/27 [00:17<00:00,  1.55it/s]\n",
      "100%|██████████| 27/27 [00:18<00:00,  1.46it/s]\n",
      "100%|██████████| 27/27 [00:17<00:00,  1.51it/s]\n",
      "100%|██████████| 27/27 [00:13<00:00,  1.95it/s]\n",
      "100%|██████████| 27/27 [00:14<00:00,  1.91it/s]\n",
      "100%|██████████| 27/27 [00:14<00:00,  1.92it/s]\n",
      "100%|██████████| 27/27 [00:11<00:00,  2.30it/s]\n",
      "100%|██████████| 27/27 [00:13<00:00,  2.05it/s]\n",
      "100%|██████████| 27/27 [00:12<00:00,  2.10it/s]\n"
     ]
    }
   ],
   "source": [
    "for index, kernel in enumerate(size_array):\n",
    "    with open('../experiments/experiment_wtk_full.txt', 'a') as file:\n",
    "        file.write(f\"SonyAIBORobotSurface2({size_list[index]}) \")\n",
    "    for i in range (1, 6, 2):\n",
    "        accuracy = knn_WTK(X_train=X_train, X_test=X_test, y_train=y_train, y_test=y_test, data_set=\"SonyAIBORobotSurface2\", sub_length=kernel, k=i)\n",
    "        with open('../experiments/experiment_wtk_full.txt', 'a') as file:\n",
    "            if i == 5:\n",
    "                file.write(f\"&{round(accuracy, 2)}\\\\\\ \\n\")\n",
    "            else:\n",
    "                file.write(f\"&{round(accuracy, 2)} \")\n",
    "\n",
    "with open('../experiments/experiment_wtk_full.txt', 'a') as file:\n",
    "    file.write(f\"--------------------------------------------------------------------------------------------------\\n\")"
   ]
  },
  {
   "cell_type": "markdown",
   "metadata": {},
   "source": [
    "### ToeSegmentation2"
   ]
  },
  {
   "cell_type": "code",
   "execution_count": 25,
   "metadata": {},
   "outputs": [],
   "source": [
    "X_train, y_train, X_test, y_test = getData('ToeSegmentation2', '../data/UCR/raw_data/')"
   ]
  },
  {
   "cell_type": "code",
   "execution_count": 26,
   "metadata": {},
   "outputs": [
    {
     "data": {
      "text/plain": [
       "[34, 102, 171, 240, 308]"
      ]
     },
     "execution_count": 26,
     "metadata": {},
     "output_type": "execute_result"
    }
   ],
   "source": [
    "size_array = findTheShortestArray(X_train, X_test)\n",
    "size_array"
   ]
  },
  {
   "cell_type": "code",
   "execution_count": 27,
   "metadata": {},
   "outputs": [
    {
     "name": "stderr",
     "output_type": "stream",
     "text": [
      "100%|██████████| 36/36 [01:57<00:00,  3.26s/it]\n",
      "100%|██████████| 36/36 [01:44<00:00,  2.91s/it]\n",
      "100%|██████████| 36/36 [01:21<00:00,  2.26s/it]\n",
      "100%|██████████| 36/36 [00:54<00:00,  1.53s/it]\n",
      "100%|██████████| 36/36 [01:18<00:00,  2.17s/it]\n",
      "100%|██████████| 36/36 [01:15<00:00,  2.11s/it]\n",
      "100%|██████████| 36/36 [00:41<00:00,  1.15s/it]\n",
      "100%|██████████| 36/36 [00:41<00:00,  1.15s/it]\n",
      "100%|██████████| 36/36 [00:41<00:00,  1.15s/it]\n",
      "100%|██████████| 36/36 [00:17<00:00,  2.01it/s]\n",
      "100%|██████████| 36/36 [00:18<00:00,  1.99it/s]\n",
      "100%|██████████| 36/36 [00:18<00:00,  1.91it/s]\n",
      "100%|██████████| 36/36 [00:06<00:00,  5.54it/s]\n",
      "100%|██████████| 36/36 [00:06<00:00,  5.29it/s]\n",
      "100%|██████████| 36/36 [00:07<00:00,  4.99it/s]\n"
     ]
    }
   ],
   "source": [
    "for index, kernel in enumerate(size_array):\n",
    "    with open('../experiments/experiment_wtk_full.txt', 'a') as file:\n",
    "        file.write(f\"ToeSegmentation2({size_list[index]}) \")\n",
    "    for i in range (1, 6, 2):\n",
    "        accuracy = knn_WTK(X_train=X_train, X_test=X_test, y_train=y_train, y_test=y_test, data_set=\"ToeSegmentation2\", sub_length=kernel, k=i)\n",
    "        with open('../experiments/experiment_wtk_full.txt', 'a') as file:\n",
    "            if i == 5:\n",
    "                file.write(f\"&{round(accuracy, 2)}\\\\\\ \\n\")\n",
    "            else:\n",
    "                file.write(f\"&{round(accuracy, 2)} \")\n",
    "\n",
    "with open('../experiments/experiment_wtk_full.txt', 'a') as file:\n",
    "    file.write(f\"--------------------------------------------------------------------------------------------------\\n\")"
   ]
  },
  {
   "cell_type": "code",
   "execution_count": null,
   "metadata": {},
   "outputs": [],
   "source": []
  }
 ],
 "metadata": {
  "kernelspec": {
   "display_name": "venv",
   "language": "python",
   "name": "python3"
  },
  "language_info": {
   "codemirror_mode": {
    "name": "ipython",
    "version": 3
   },
   "file_extension": ".py",
   "mimetype": "text/x-python",
   "name": "python",
   "nbconvert_exporter": "python",
   "pygments_lexer": "ipython3",
   "version": "3.11.5"
  },
  "orig_nbformat": 4
 },
 "nbformat": 4,
 "nbformat_minor": 2
}

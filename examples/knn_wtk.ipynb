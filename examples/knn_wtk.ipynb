{
 "cells": [
  {
   "cell_type": "code",
   "execution_count": 1,
   "metadata": {},
   "outputs": [],
   "source": [
    "import numpy as np\n",
    "from getData import getData\n",
    "from knn import knn_WTK"
   ]
  },
  {
   "cell_type": "code",
   "execution_count": 2,
   "metadata": {},
   "outputs": [],
   "source": [
    "def findTheShortestArray(list1, list2):\n",
    "    min1 = min(list1, key=len)\n",
    "    min2 = min(list2, key=len)\n",
    "    min_len = min(len(min1), len(min2))\n",
    "    frac1 = int(np.floor(min_len*10/100))\n",
    "    frac2 = int(np.floor(min_len*30/100))\n",
    "    frac3 = int(np.floor(min_len*50/100))\n",
    "    min_array = [frac1, frac2, frac3]\n",
    "    return min_array\n",
    "size_list = [10, 30, 50]"
   ]
  },
  {
   "cell_type": "markdown",
   "metadata": {},
   "source": [
    "### BME dataset"
   ]
  },
  {
   "cell_type": "code",
   "execution_count": 3,
   "metadata": {},
   "outputs": [],
   "source": [
    "X_train, y_train, X_test, y_test = getData('BME', '../data/UCR/raw_data/')"
   ]
  },
  {
   "cell_type": "code",
   "execution_count": 4,
   "metadata": {},
   "outputs": [
    {
     "data": {
      "text/plain": [
       "[12, 38, 64]"
      ]
     },
     "execution_count": 4,
     "metadata": {},
     "output_type": "execute_result"
    }
   ],
   "source": [
    "size_array = findTheShortestArray(X_train, X_test)\n",
    "size_array"
   ]
  },
  {
   "cell_type": "code",
   "execution_count": 5,
   "metadata": {},
   "outputs": [
    {
     "name": "stderr",
     "output_type": "stream",
     "text": [
      "100%|██████████| 30/30 [00:07<00:00,  4.27it/s]\n",
      "100%|██████████| 30/30 [00:07<00:00,  4.27it/s]\n",
      "100%|██████████| 30/30 [00:06<00:00,  4.70it/s]\n",
      "100%|██████████| 30/30 [00:06<00:00,  4.82it/s]\n",
      "100%|██████████| 30/30 [00:07<00:00,  4.13it/s]\n",
      "100%|██████████| 30/30 [00:06<00:00,  4.85it/s]\n",
      "100%|██████████| 30/30 [00:03<00:00,  7.91it/s]\n",
      "100%|██████████| 30/30 [00:03<00:00,  7.68it/s]\n",
      "100%|██████████| 30/30 [00:03<00:00,  7.57it/s]\n"
     ]
    }
   ],
   "source": [
    "for index, kernel in enumerate(size_array):\n",
    "    with open('experiment_wtk.txt', 'a') as file:\n",
    "        file.write(f\"BME({size_list[index]}) \")\n",
    "    for i in range (1, 6, 2):\n",
    "        accuracy = knn_WTK(X_train=X_train, X_test=X_test, y_train=y_train, y_test=y_test, data_set=\"BME\", sub_length=kernel, k=i)\n",
    "        with open('experiment_wtk.txt', 'a') as file:\n",
    "            if i == 5:\n",
    "                file.write(f\"&{round(accuracy, 2)}\\\\\\ \\n\")\n",
    "            else:\n",
    "                file.write(f\"&{round(accuracy, 2)} \")\n",
    "\n",
    "with open('experiment_wtk.txt', 'a') as file:\n",
    "    file.write(f\"--------------------------------------------------------------------------------------------------\\n\")"
   ]
  },
  {
   "cell_type": "markdown",
   "metadata": {},
   "source": [
    "### BeetleFly"
   ]
  },
  {
   "cell_type": "code",
   "execution_count": 17,
   "metadata": {},
   "outputs": [],
   "source": [
    "X_train, y_train, X_test, y_test = getData('BeetleFly', '../data/UCR/raw_data/')"
   ]
  },
  {
   "cell_type": "code",
   "execution_count": 18,
   "metadata": {},
   "outputs": [
    {
     "data": {
      "text/plain": [
       "[51, 153, 256]"
      ]
     },
     "execution_count": 18,
     "metadata": {},
     "output_type": "execute_result"
    }
   ],
   "source": [
    "size_array = findTheShortestArray(X_train, X_test)\n",
    "size_array"
   ]
  },
  {
   "cell_type": "code",
   "execution_count": 19,
   "metadata": {},
   "outputs": [
    {
     "name": "stderr",
     "output_type": "stream",
     "text": [
      "100%|██████████| 20/20 [00:29<00:00,  1.49s/it]\n",
      "100%|██████████| 20/20 [00:24<00:00,  1.24s/it]\n",
      "100%|██████████| 20/20 [00:25<00:00,  1.29s/it]\n",
      "100%|██████████| 20/20 [00:15<00:00,  1.31it/s]\n",
      "100%|██████████| 20/20 [00:23<00:00,  1.18s/it]\n",
      "100%|██████████| 20/20 [00:21<00:00,  1.06s/it]\n",
      "100%|██████████| 20/20 [00:08<00:00,  2.48it/s]\n",
      "100%|██████████| 20/20 [00:11<00:00,  1.77it/s]\n",
      "100%|██████████| 20/20 [00:09<00:00,  2.14it/s]\n"
     ]
    }
   ],
   "source": [
    "for index, kernel in enumerate(size_array):\n",
    "    with open('experiment_wtk.txt', 'a') as file:\n",
    "        file.write(f\"BeetleFly({size_list[index]}) \")\n",
    "    for i in range (1, 6, 2):\n",
    "        accuracy = knn_WTK(X_train=X_train, X_test=X_test, y_train=y_train, y_test=y_test, data_set=\"BeetleFly\", sub_length=kernel, k=i)\n",
    "        with open('experiment_wtk.txt', 'a') as file:\n",
    "            if i == 5:\n",
    "                file.write(f\"&{round(accuracy, 2)}\\\\\\ \\n\")\n",
    "            else:\n",
    "                file.write(f\"&{round(accuracy, 2)} \")\n",
    "\n",
    "with open('experiment.txt', 'a') as file:\n",
    "    file.write(f\"--------------------------------------------------------------------------------------------------\\n\")"
   ]
  },
  {
   "cell_type": "markdown",
   "metadata": {},
   "source": [
    "### BirdChicken"
   ]
  },
  {
   "cell_type": "code",
   "execution_count": 20,
   "metadata": {},
   "outputs": [],
   "source": [
    "X_train, y_train, X_test, y_test = getData('BirdChicken', '../data/UCR/raw_data/')"
   ]
  },
  {
   "cell_type": "code",
   "execution_count": 21,
   "metadata": {},
   "outputs": [
    {
     "data": {
      "text/plain": [
       "[51, 153, 256]"
      ]
     },
     "execution_count": 21,
     "metadata": {},
     "output_type": "execute_result"
    }
   ],
   "source": [
    "size_array = findTheShortestArray(X_train, X_test)\n",
    "size_array"
   ]
  },
  {
   "cell_type": "code",
   "execution_count": 22,
   "metadata": {},
   "outputs": [
    {
     "name": "stderr",
     "output_type": "stream",
     "text": [
      "100%|██████████| 20/20 [00:36<00:00,  1.83s/it]\n",
      "100%|██████████| 20/20 [00:29<00:00,  1.49s/it]\n",
      "100%|██████████| 20/20 [00:31<00:00,  1.56s/it]\n",
      "100%|██████████| 20/20 [00:21<00:00,  1.08s/it]\n",
      "100%|██████████| 20/20 [00:22<00:00,  1.12s/it]\n",
      "100%|██████████| 20/20 [00:20<00:00,  1.03s/it]\n",
      "100%|██████████| 20/20 [00:11<00:00,  1.69it/s]\n",
      "100%|██████████| 20/20 [00:11<00:00,  1.77it/s]\n",
      "100%|██████████| 20/20 [00:11<00:00,  1.78it/s]\n"
     ]
    }
   ],
   "source": [
    "for index, kernel in enumerate(size_array):\n",
    "    with open('experiment.txt', 'a') as file:\n",
    "        file.write(f\"BirdChicken({size_list[index]}) \")\n",
    "    for i in range (1, 6, 2):\n",
    "        accuracy = knn_WTK(X_train=X_train, X_test=X_test, y_train=y_train, y_test=y_test, data_set=\"BirdChicken\", sub_length=kernel, k=i)\n",
    "        with open('experiment.txt', 'a') as file:\n",
    "            if i == 5:\n",
    "                file.write(f\"&{round(accuracy, 2)}\\\\\\ \\n\")\n",
    "            else:\n",
    "                file.write(f\"&{round(accuracy, 2)} \")\n",
    "\n",
    "with open('experiment.txt', 'a') as file:\n",
    "    file.write(f\"--------------------------------------------------------------------------------------------------\\n\")"
   ]
  },
  {
   "cell_type": "markdown",
   "metadata": {},
   "source": [
    "### Chinatown"
   ]
  },
  {
   "cell_type": "code",
   "execution_count": 23,
   "metadata": {},
   "outputs": [],
   "source": [
    "X_train, y_train, X_test, y_test = getData('Chinatown', '../data/UCR/raw_data/')"
   ]
  },
  {
   "cell_type": "code",
   "execution_count": 24,
   "metadata": {},
   "outputs": [
    {
     "data": {
      "text/plain": [
       "[2, 7, 12]"
      ]
     },
     "execution_count": 24,
     "metadata": {},
     "output_type": "execute_result"
    }
   ],
   "source": [
    "size_array = findTheShortestArray(X_train, X_test)\n",
    "size_array"
   ]
  },
  {
   "cell_type": "code",
   "execution_count": 25,
   "metadata": {},
   "outputs": [
    {
     "name": "stderr",
     "output_type": "stream",
     "text": [
      "100%|██████████| 20/20 [00:03<00:00,  5.16it/s]\n",
      "100%|██████████| 20/20 [00:03<00:00,  5.07it/s]\n",
      "100%|██████████| 20/20 [00:03<00:00,  5.35it/s]\n",
      "100%|██████████| 20/20 [00:03<00:00,  6.06it/s]\n",
      "100%|██████████| 20/20 [00:03<00:00,  6.42it/s]\n",
      "100%|██████████| 20/20 [00:03<00:00,  6.31it/s]\n",
      "100%|██████████| 20/20 [00:03<00:00,  6.54it/s]\n",
      "100%|██████████| 20/20 [00:02<00:00,  6.67it/s]\n",
      "100%|██████████| 20/20 [00:03<00:00,  6.61it/s]\n"
     ]
    }
   ],
   "source": [
    "for index, kernel in enumerate(size_array):\n",
    "    with open('experiment.txt', 'a') as file:\n",
    "        file.write(f\"Chinatown({size_list[index]}) \")\n",
    "    for i in range (1, 6, 2):\n",
    "        accuracy = knn_WTK(X_train=X_train, X_test=X_test, y_train=y_train, y_test=y_test, data_set=\"Chinatown\", sub_length=kernel, k=i)\n",
    "        with open('experiment.txt', 'a') as file:\n",
    "            if i == 5:\n",
    "                file.write(f\"&{round(accuracy, 2)}\\\\\\ \\n\")\n",
    "            else:\n",
    "                file.write(f\"&{round(accuracy, 2)} \")\n",
    "\n",
    "with open('experiment.txt', 'a') as file:\n",
    "    file.write(f\"--------------------------------------------------------------------------------------------------\\n\")"
   ]
  },
  {
   "cell_type": "markdown",
   "metadata": {},
   "source": [
    "### Coffee"
   ]
  },
  {
   "cell_type": "code",
   "execution_count": 26,
   "metadata": {},
   "outputs": [],
   "source": [
    "X_train, y_train, X_test, y_test = getData('Coffee', '../data/UCR/raw_data/')"
   ]
  },
  {
   "cell_type": "code",
   "execution_count": 27,
   "metadata": {},
   "outputs": [
    {
     "data": {
      "text/plain": [
       "[28, 85, 143]"
      ]
     },
     "execution_count": 27,
     "metadata": {},
     "output_type": "execute_result"
    }
   ],
   "source": [
    "size_array = findTheShortestArray(X_train, X_test)\n",
    "size_array"
   ]
  },
  {
   "cell_type": "code",
   "execution_count": 28,
   "metadata": {},
   "outputs": [
    {
     "name": "stderr",
     "output_type": "stream",
     "text": [
      "100%|██████████| 28/28 [00:12<00:00,  2.25it/s]\n",
      "100%|██████████| 28/28 [00:11<00:00,  2.36it/s]\n",
      "100%|██████████| 28/28 [00:11<00:00,  2.37it/s]\n",
      "100%|██████████| 28/28 [00:06<00:00,  4.29it/s]\n",
      "100%|██████████| 28/28 [00:06<00:00,  4.55it/s]\n",
      "100%|██████████| 28/28 [00:06<00:00,  4.37it/s]\n",
      "100%|██████████| 28/28 [00:03<00:00,  7.99it/s]\n",
      "100%|██████████| 28/28 [00:03<00:00,  8.80it/s]\n",
      "100%|██████████| 28/28 [00:03<00:00,  9.17it/s]\n"
     ]
    }
   ],
   "source": [
    "for index, kernel in enumerate(size_array):\n",
    "    with open('experiment.txt', 'a') as file:\n",
    "        file.write(f\"Coffee({size_list[index]}) \")\n",
    "    for i in range (1, 6, 2):\n",
    "        accuracy = knn_WTK(X_train=X_train, X_test=X_test, y_train=y_train, y_test=y_test, data_set=\"Coffee\", sub_length=kernel, k=i)\n",
    "        with open('experiment.txt', 'a') as file:\n",
    "            if i == 5:\n",
    "                file.write(f\"&{round(accuracy, 2)}\\\\\\ \\n\")\n",
    "            else:\n",
    "                file.write(f\"&{round(accuracy, 2)} \")\n",
    "\n",
    "with open('experiment.txt', 'a') as file:\n",
    "    file.write(f\"--------------------------------------------------------------------------------------------------\\n\")"
   ]
  },
  {
   "cell_type": "markdown",
   "metadata": {},
   "source": [
    "### DistalPhalanxOutlineCorrect"
   ]
  },
  {
   "cell_type": "code",
   "execution_count": 29,
   "metadata": {},
   "outputs": [],
   "source": [
    "X_train, y_train, X_test, y_test = getData('DistalPhalanxOutlineCorrect', '../data/UCR/raw_data/')"
   ]
  },
  {
   "cell_type": "code",
   "execution_count": 30,
   "metadata": {},
   "outputs": [
    {
     "data": {
      "text/plain": [
       "[8, 24, 40]"
      ]
     },
     "execution_count": 30,
     "metadata": {},
     "output_type": "execute_result"
    }
   ],
   "source": [
    "size_array = findTheShortestArray(X_train, X_test)\n",
    "size_array"
   ]
  },
  {
   "cell_type": "code",
   "execution_count": 31,
   "metadata": {},
   "outputs": [
    {
     "name": "stderr",
     "output_type": "stream",
     "text": [
      "100%|██████████| 600/600 [03:40<00:00,  2.73it/s]\n",
      "100%|██████████| 600/600 [03:59<00:00,  2.51it/s]\n",
      "100%|██████████| 600/600 [04:55<00:00,  2.03it/s]\n",
      "100%|██████████| 600/600 [03:17<00:00,  3.04it/s]\n",
      "100%|██████████| 600/600 [02:32<00:00,  3.94it/s]\n",
      "100%|██████████| 600/600 [02:31<00:00,  3.96it/s]\n",
      "100%|██████████| 600/600 [01:50<00:00,  5.43it/s]\n",
      "100%|██████████| 600/600 [01:51<00:00,  5.39it/s]\n",
      "100%|██████████| 600/600 [01:51<00:00,  5.36it/s]\n"
     ]
    }
   ],
   "source": [
    "for index, kernel in enumerate(size_array):\n",
    "    with open('experiment.txt', 'a') as file:\n",
    "        file.write(f\"DistalPhalanxOutlineCorrect({size_list[index]}) \")\n",
    "    for i in range (1, 6, 2):\n",
    "        accuracy = knn_WTK(X_train=X_train, X_test=X_test, y_train=y_train, y_test=y_test, data_set=\"DistalPhalanxOutlineCorrect\", sub_length=kernel, k=i)\n",
    "        with open('experiment.txt', 'a') as file:\n",
    "            if i == 5:\n",
    "                file.write(f\"&{round(accuracy, 2)}\\\\\\ \\n\")\n",
    "            else:\n",
    "                file.write(f\"&{round(accuracy, 2)} \")\n",
    "\n",
    "with open('experiment.txt', 'a') as file:\n",
    "    file.write(f\"--------------------------------------------------------------------------------------------------\\n\")"
   ]
  },
  {
   "cell_type": "markdown",
   "metadata": {},
   "source": [
    "### DistalPhalanxTW"
   ]
  },
  {
   "cell_type": "code",
   "execution_count": 32,
   "metadata": {},
   "outputs": [],
   "source": [
    "X_train, y_train, X_test, y_test = getData('DistalPhalanxTW', '../data/UCR/raw_data/')"
   ]
  },
  {
   "cell_type": "code",
   "execution_count": 33,
   "metadata": {},
   "outputs": [
    {
     "data": {
      "text/plain": [
       "[8, 24, 40]"
      ]
     },
     "execution_count": 33,
     "metadata": {},
     "output_type": "execute_result"
    }
   ],
   "source": [
    "size_array = findTheShortestArray(X_train, X_test)\n",
    "size_array"
   ]
  },
  {
   "cell_type": "code",
   "execution_count": 34,
   "metadata": {},
   "outputs": [
    {
     "name": "stderr",
     "output_type": "stream",
     "text": [
      "100%|██████████| 139/139 [01:08<00:00,  2.04it/s]\n",
      "100%|██████████| 139/139 [01:05<00:00,  2.11it/s]\n",
      "100%|██████████| 139/139 [01:07<00:00,  2.06it/s]\n",
      "100%|██████████| 139/139 [00:49<00:00,  2.78it/s]\n",
      "100%|██████████| 139/139 [00:50<00:00,  2.75it/s]\n",
      "100%|██████████| 139/139 [00:48<00:00,  2.84it/s]\n",
      "100%|██████████| 139/139 [00:36<00:00,  3.77it/s]\n",
      "100%|██████████| 139/139 [00:36<00:00,  3.85it/s]\n",
      "100%|██████████| 139/139 [00:36<00:00,  3.81it/s]\n"
     ]
    }
   ],
   "source": [
    "for index, kernel in enumerate(size_array):\n",
    "    with open('experiment.txt', 'a') as file:\n",
    "        file.write(f\"DistalPhalanxTW({size_list[index]}) \")\n",
    "    for i in range (1, 6, 2):\n",
    "        accuracy = knn_WTK(X_train=X_train, X_test=X_test, y_train=y_train, y_test=y_test, data_set=\"DistalPhalanxTW\", sub_length=kernel, k=i)\n",
    "        with open('experiment.txt', 'a') as file:\n",
    "            if i == 5:\n",
    "                file.write(f\"&{round(accuracy, 2)}\\\\\\ \\n\")\n",
    "            else:\n",
    "                file.write(f\"&{round(accuracy, 2)} \")\n",
    "\n",
    "with open('experiment.txt', 'a') as file:\n",
    "    file.write(f\"--------------------------------------------------------------------------------------------------\\n\")"
   ]
  },
  {
   "cell_type": "markdown",
   "metadata": {},
   "source": [
    "### ECG200"
   ]
  },
  {
   "cell_type": "code",
   "execution_count": 35,
   "metadata": {},
   "outputs": [],
   "source": [
    "X_train, y_train, X_test, y_test = getData('ECG200', '../data/UCR/raw_data/')"
   ]
  },
  {
   "cell_type": "code",
   "execution_count": 36,
   "metadata": {},
   "outputs": [
    {
     "data": {
      "text/plain": [
       "[9, 28, 48]"
      ]
     },
     "execution_count": 36,
     "metadata": {},
     "output_type": "execute_result"
    }
   ],
   "source": [
    "size_array = findTheShortestArray(X_train, X_test)\n",
    "size_array"
   ]
  },
  {
   "cell_type": "code",
   "execution_count": 37,
   "metadata": {},
   "outputs": [
    {
     "name": "stderr",
     "output_type": "stream",
     "text": [
      "100%|██████████| 100/100 [00:21<00:00,  4.76it/s]\n",
      "100%|██████████| 100/100 [00:19<00:00,  5.25it/s]\n",
      "100%|██████████| 100/100 [00:19<00:00,  5.18it/s]\n",
      "100%|██████████| 100/100 [00:14<00:00,  6.70it/s]\n",
      "100%|██████████| 100/100 [00:14<00:00,  6.95it/s]\n",
      "100%|██████████| 100/100 [00:14<00:00,  6.83it/s]\n",
      "100%|██████████| 100/100 [00:09<00:00, 10.35it/s]\n",
      "100%|██████████| 100/100 [00:09<00:00, 10.18it/s]\n",
      "100%|██████████| 100/100 [00:09<00:00, 10.25it/s]\n"
     ]
    }
   ],
   "source": [
    "for index, kernel in enumerate(size_array):\n",
    "    with open('experiment.txt', 'a') as file:\n",
    "        file.write(f\"ECG200({size_list[index]}) \")\n",
    "    for i in range (1, 6, 2):\n",
    "        accuracy = knn_WTK(X_train=X_train, X_test=X_test, y_train=y_train, y_test=y_test, data_set=\"ECG200\", sub_length=kernel, k=i)\n",
    "        with open('experiment.txt', 'a') as file:\n",
    "            if i == 5:\n",
    "                file.write(f\"&{round(accuracy, 2)}\\\\\\ \\n\")\n",
    "            else:\n",
    "                file.write(f\"&{round(accuracy, 2)} \")\n",
    "\n",
    "with open('experiment.txt', 'a') as file:\n",
    "    file.write(f\"--------------------------------------------------------------------------------------------------\\n\")"
   ]
  },
  {
   "cell_type": "markdown",
   "metadata": {},
   "source": [
    "### FaceFour"
   ]
  },
  {
   "cell_type": "code",
   "execution_count": 38,
   "metadata": {},
   "outputs": [],
   "source": [
    "X_train, y_train, X_test, y_test = getData('FaceFour', '../data/UCR/raw_data/')"
   ]
  },
  {
   "cell_type": "code",
   "execution_count": 39,
   "metadata": {},
   "outputs": [
    {
     "data": {
      "text/plain": [
       "[35, 105, 175]"
      ]
     },
     "execution_count": 39,
     "metadata": {},
     "output_type": "execute_result"
    }
   ],
   "source": [
    "size_array = findTheShortestArray(X_train, X_test)\n",
    "size_array"
   ]
  },
  {
   "cell_type": "code",
   "execution_count": 40,
   "metadata": {},
   "outputs": [
    {
     "name": "stderr",
     "output_type": "stream",
     "text": [
      "100%|██████████| 24/24 [00:58<00:00,  2.44s/it]\n",
      "100%|██████████| 24/24 [00:58<00:00,  2.44s/it]\n",
      "100%|██████████| 24/24 [00:56<00:00,  2.34s/it]\n",
      "100%|██████████| 24/24 [00:34<00:00,  1.44s/it]\n",
      "100%|██████████| 24/24 [00:35<00:00,  1.48s/it]\n",
      "100%|██████████| 24/24 [00:35<00:00,  1.46s/it]\n",
      "100%|██████████| 24/24 [00:17<00:00,  1.35it/s]\n",
      "100%|██████████| 24/24 [00:17<00:00,  1.34it/s]\n",
      "100%|██████████| 24/24 [00:18<00:00,  1.28it/s]\n"
     ]
    }
   ],
   "source": [
    "for index, kernel in enumerate(size_array):\n",
    "    with open('experiment.txt', 'a') as file:\n",
    "        file.write(f\"FaceFour({size_list[index]}) \")\n",
    "    for i in range (1, 6, 2):\n",
    "        accuracy = knn_WTK(X_train=X_train, X_test=X_test, y_train=y_train, y_test=y_test, data_set=\"FaceFour\", sub_length=kernel, k=i)\n",
    "        with open('experiment.txt', 'a') as file:\n",
    "            if i == 5:\n",
    "                file.write(f\"&{round(accuracy, 2)}\\\\\\ \\n\")\n",
    "            else:\n",
    "                file.write(f\"&{round(accuracy, 2)} \")\n",
    "\n",
    "with open('experiment.txt', 'a') as file:\n",
    "    file.write(f\"--------------------------------------------------------------------------------------------------\\n\")"
   ]
  },
  {
   "cell_type": "markdown",
   "metadata": {},
   "source": [
    "### Fungi"
   ]
  },
  {
   "cell_type": "code",
   "execution_count": 41,
   "metadata": {},
   "outputs": [],
   "source": [
    "X_train, y_train, X_test, y_test = getData('Fungi', '../data/UCR/raw_data/')"
   ]
  },
  {
   "cell_type": "code",
   "execution_count": 42,
   "metadata": {},
   "outputs": [
    {
     "data": {
      "text/plain": [
       "[20, 60, 100]"
      ]
     },
     "execution_count": 42,
     "metadata": {},
     "output_type": "execute_result"
    }
   ],
   "source": [
    "size_array = findTheShortestArray(X_train, X_test)\n",
    "size_array"
   ]
  },
  {
   "cell_type": "code",
   "execution_count": 43,
   "metadata": {},
   "outputs": [
    {
     "name": "stderr",
     "output_type": "stream",
     "text": [
      "100%|██████████| 18/18 [00:29<00:00,  1.66s/it]\n",
      "100%|██████████| 18/18 [00:29<00:00,  1.61s/it]\n",
      "100%|██████████| 18/18 [00:29<00:00,  1.62s/it]\n",
      "100%|██████████| 18/18 [00:21<00:00,  1.22s/it]\n",
      "100%|██████████| 18/18 [00:21<00:00,  1.18s/it]\n",
      "100%|██████████| 18/18 [00:19<00:00,  1.09s/it]\n",
      "100%|██████████| 18/18 [00:11<00:00,  1.55it/s]\n",
      "100%|██████████| 18/18 [00:11<00:00,  1.58it/s]\n",
      "100%|██████████| 18/18 [00:12<00:00,  1.47it/s]\n"
     ]
    }
   ],
   "source": [
    "for index, kernel in enumerate(size_array):\n",
    "    with open('experiment.txt', 'a') as file:\n",
    "        file.write(f\"Fungi({size_list[index]}) \")\n",
    "    for i in range (1, 6, 2):\n",
    "        accuracy = knn_WTK(X_train=X_train, X_test=X_test, y_train=y_train, y_test=y_test, data_set=\"Fungi\", sub_length=kernel, k=i)\n",
    "        with open('experiment.txt', 'a') as file:\n",
    "            if i == 5:\n",
    "                file.write(f\"&{round(accuracy, 2)}\\\\\\ \\n\")\n",
    "            else:\n",
    "                file.write(f\"&{round(accuracy, 2)} \")\n",
    "\n",
    "with open('experiment.txt', 'a') as file:\n",
    "    file.write(f\"--------------------------------------------------------------------------------------------------\\n\")"
   ]
  },
  {
   "cell_type": "markdown",
   "metadata": {},
   "source": [
    "### GunPoint"
   ]
  },
  {
   "cell_type": "code",
   "execution_count": 44,
   "metadata": {},
   "outputs": [],
   "source": [
    "X_train, y_train, X_test, y_test = getData('GunPoint', '../data/UCR/raw_data/')"
   ]
  },
  {
   "cell_type": "code",
   "execution_count": 45,
   "metadata": {},
   "outputs": [
    {
     "data": {
      "text/plain": [
       "[15, 45, 75]"
      ]
     },
     "execution_count": 45,
     "metadata": {},
     "output_type": "execute_result"
    }
   ],
   "source": [
    "size_array = findTheShortestArray(X_train, X_test)\n",
    "size_array"
   ]
  },
  {
   "cell_type": "code",
   "execution_count": 46,
   "metadata": {},
   "outputs": [
    {
     "name": "stderr",
     "output_type": "stream",
     "text": [
      "100%|██████████| 50/50 [00:41<00:00,  1.22it/s]\n",
      "100%|██████████| 50/50 [00:41<00:00,  1.20it/s]\n",
      "100%|██████████| 50/50 [00:41<00:00,  1.21it/s]\n",
      "100%|██████████| 50/50 [00:31<00:00,  1.60it/s]\n",
      "100%|██████████| 50/50 [00:29<00:00,  1.67it/s]\n",
      "100%|██████████| 50/50 [00:29<00:00,  1.67it/s]\n",
      "100%|██████████| 50/50 [00:19<00:00,  2.63it/s]\n",
      "100%|██████████| 50/50 [00:19<00:00,  2.61it/s]\n",
      "100%|██████████| 50/50 [00:18<00:00,  2.70it/s]\n"
     ]
    }
   ],
   "source": [
    "for index, kernel in enumerate(size_array):\n",
    "    with open('experiment.txt', 'a') as file:\n",
    "        file.write(f\"GunPoint({size_list[index]}) \")\n",
    "    for i in range (1, 6, 2):\n",
    "        accuracy = knn_WTK(X_train=X_train, X_test=X_test, y_train=y_train, y_test=y_test, data_set=\"GunPoint\", sub_length=kernel, k=i)\n",
    "        with open('experiment.txt', 'a') as file:\n",
    "            if i == 5:\n",
    "                file.write(f\"&{round(accuracy, 2)}\\\\\\ \\n\")\n",
    "            else:\n",
    "                file.write(f\"&{round(accuracy, 2)} \")\n",
    "\n",
    "with open('experiment.txt', 'a') as file:\n",
    "    file.write(f\"--------------------------------------------------------------------------------------------------\\n\")"
   ]
  },
  {
   "cell_type": "markdown",
   "metadata": {},
   "source": [
    "### Herring"
   ]
  },
  {
   "cell_type": "code",
   "execution_count": 47,
   "metadata": {},
   "outputs": [],
   "source": [
    "X_train, y_train, X_test, y_test = getData('Herring', '../data/UCR/raw_data/')"
   ]
  },
  {
   "cell_type": "code",
   "execution_count": 48,
   "metadata": {},
   "outputs": [
    {
     "data": {
      "text/plain": [
       "[51, 153, 256]"
      ]
     },
     "execution_count": 48,
     "metadata": {},
     "output_type": "execute_result"
    }
   ],
   "source": [
    "size_array = findTheShortestArray(X_train, X_test)\n",
    "size_array"
   ]
  },
  {
   "cell_type": "code",
   "execution_count": 49,
   "metadata": {},
   "outputs": [
    {
     "name": "stderr",
     "output_type": "stream",
     "text": [
      "100%|██████████| 64/64 [05:06<00:00,  4.79s/it]\n",
      "100%|██████████| 64/64 [05:56<00:00,  5.57s/it]\n",
      "100%|██████████| 64/64 [05:57<00:00,  5.59s/it]\n",
      "100%|██████████| 64/64 [03:44<00:00,  3.51s/it]\n",
      "100%|██████████| 64/64 [03:31<00:00,  3.30s/it]\n",
      "100%|██████████| 64/64 [03:54<00:00,  3.66s/it]\n",
      "100%|██████████| 64/64 [02:04<00:00,  1.95s/it]\n",
      "100%|██████████| 64/64 [01:59<00:00,  1.86s/it]\n",
      "100%|██████████| 64/64 [01:59<00:00,  1.86s/it]\n"
     ]
    }
   ],
   "source": [
    "for index, kernel in enumerate(size_array):\n",
    "    with open('experiment.txt', 'a') as file:\n",
    "        file.write(f\"Herring({size_list[index]}) \")\n",
    "    for i in range (1, 6, 2):\n",
    "        accuracy = knn_WTK(X_train=X_train, X_test=X_test, y_train=y_train, y_test=y_test, data_set=\"Herring\", sub_length=kernel, k=i)\n",
    "        with open('experiment.txt', 'a') as file:\n",
    "            if i == 5:\n",
    "                file.write(f\"&{round(accuracy, 2)}\\\\\\ \\n\")\n",
    "            else:\n",
    "                file.write(f\"&{round(accuracy, 2)} \")\n",
    "\n",
    "with open('experiment.txt', 'a') as file:\n",
    "    file.write(f\"--------------------------------------------------------------------------------------------------\\n\")"
   ]
  },
  {
   "cell_type": "markdown",
   "metadata": {},
   "source": [
    "### ItalyPowerDemand"
   ]
  },
  {
   "cell_type": "code",
   "execution_count": 50,
   "metadata": {},
   "outputs": [],
   "source": [
    "X_train, y_train, X_test, y_test = getData('ItalyPowerDemand', '../data/UCR/raw_data/')"
   ]
  },
  {
   "cell_type": "code",
   "execution_count": 51,
   "metadata": {},
   "outputs": [
    {
     "data": {
      "text/plain": [
       "[2, 7, 12]"
      ]
     },
     "execution_count": 51,
     "metadata": {},
     "output_type": "execute_result"
    }
   ],
   "source": [
    "size_array = findTheShortestArray(X_train, X_test)\n",
    "size_array"
   ]
  },
  {
   "cell_type": "code",
   "execution_count": 52,
   "metadata": {},
   "outputs": [
    {
     "name": "stderr",
     "output_type": "stream",
     "text": [
      "100%|██████████| 67/67 [00:39<00:00,  1.69it/s]\n",
      "100%|██████████| 67/67 [00:39<00:00,  1.71it/s]\n",
      "100%|██████████| 67/67 [00:39<00:00,  1.69it/s]\n",
      "100%|██████████| 67/67 [00:35<00:00,  1.86it/s]\n",
      "100%|██████████| 67/67 [00:35<00:00,  1.88it/s]\n",
      "100%|██████████| 67/67 [00:35<00:00,  1.88it/s]\n",
      "100%|██████████| 67/67 [00:33<00:00,  2.00it/s]\n",
      "100%|██████████| 67/67 [00:32<00:00,  2.03it/s]\n",
      "100%|██████████| 67/67 [00:32<00:00,  2.04it/s]\n"
     ]
    }
   ],
   "source": [
    "for index, kernel in enumerate(size_array):\n",
    "    with open('experiment.txt', 'a') as file:\n",
    "        file.write(f\"ItalyPowerDemand({size_list[index]}) \")\n",
    "    for i in range (1, 6, 2):\n",
    "        accuracy = knn_WTK(X_train=X_train, X_test=X_test, y_train=y_train, y_test=y_test, data_set=\"ItalyPowerDemand\", sub_length=kernel, k=i)\n",
    "        with open('experiment.txt', 'a') as file:\n",
    "            if i == 5:\n",
    "                file.write(f\"&{round(accuracy, 2)}\\\\\\ \\n\")\n",
    "            else:\n",
    "                file.write(f\"&{round(accuracy, 2)} \")\n",
    "\n",
    "with open('experiment.txt', 'a') as file:\n",
    "    file.write(f\"--------------------------------------------------------------------------------------------------\\n\")"
   ]
  },
  {
   "cell_type": "markdown",
   "metadata": {},
   "source": [
    "### MoteStrain"
   ]
  },
  {
   "cell_type": "code",
   "execution_count": 53,
   "metadata": {},
   "outputs": [],
   "source": [
    "X_train, y_train, X_test, y_test = getData('MoteStrain', '../data/UCR/raw_data/')"
   ]
  },
  {
   "cell_type": "code",
   "execution_count": 54,
   "metadata": {},
   "outputs": [
    {
     "data": {
      "text/plain": [
       "[8, 25, 42]"
      ]
     },
     "execution_count": 54,
     "metadata": {},
     "output_type": "execute_result"
    }
   ],
   "source": [
    "size_array = findTheShortestArray(X_train, X_test)\n",
    "size_array"
   ]
  },
  {
   "cell_type": "code",
   "execution_count": 55,
   "metadata": {},
   "outputs": [
    {
     "name": "stderr",
     "output_type": "stream",
     "text": [
      "100%|██████████| 20/20 [00:44<00:00,  2.25s/it]\n",
      "100%|██████████| 20/20 [00:44<00:00,  2.20s/it]\n",
      "100%|██████████| 20/20 [00:43<00:00,  2.16s/it]\n",
      "100%|██████████| 20/20 [00:32<00:00,  1.63s/it]\n",
      "100%|██████████| 20/20 [00:34<00:00,  1.71s/it]\n",
      "100%|██████████| 20/20 [00:33<00:00,  1.68s/it]\n",
      "100%|██████████| 20/20 [00:22<00:00,  1.14s/it]\n",
      "100%|██████████| 20/20 [00:22<00:00,  1.14s/it]\n",
      "100%|██████████| 20/20 [00:23<00:00,  1.15s/it]\n"
     ]
    }
   ],
   "source": [
    "for index, kernel in enumerate(size_array):\n",
    "    with open('experiment.txt', 'a') as file:\n",
    "        file.write(f\"MoteStrain({size_list[index]}) \")\n",
    "    for i in range (1, 6, 2):\n",
    "        accuracy = knn_WTK(X_train=X_train, X_test=X_test, y_train=y_train, y_test=y_test, data_set=\"MoteStrain\", sub_length=kernel, k=i)\n",
    "        with open('experiment.txt', 'a') as file:\n",
    "            if i == 5:\n",
    "                file.write(f\"&{round(accuracy, 2)}\\\\\\ \\n\")\n",
    "            else:\n",
    "                file.write(f\"&{round(accuracy, 2)} \")\n",
    "\n",
    "with open('experiment.txt', 'a') as file:\n",
    "    file.write(f\"--------------------------------------------------------------------------------------------------\\n\")"
   ]
  },
  {
   "cell_type": "markdown",
   "metadata": {},
   "source": [
    "### OliveOil"
   ]
  },
  {
   "cell_type": "code",
   "execution_count": 56,
   "metadata": {},
   "outputs": [],
   "source": [
    "X_train, y_train, X_test, y_test = getData('OliveOil', '../data/UCR/raw_data/')"
   ]
  },
  {
   "cell_type": "code",
   "execution_count": 57,
   "metadata": {},
   "outputs": [
    {
     "data": {
      "text/plain": [
       "[57, 171, 285]"
      ]
     },
     "execution_count": 57,
     "metadata": {},
     "output_type": "execute_result"
    }
   ],
   "source": [
    "size_array = findTheShortestArray(X_train, X_test)\n",
    "size_array"
   ]
  },
  {
   "cell_type": "code",
   "execution_count": 58,
   "metadata": {},
   "outputs": [
    {
     "name": "stderr",
     "output_type": "stream",
     "text": [
      "100%|██████████| 30/30 [00:54<00:00,  1.81s/it]\n",
      "100%|██████████| 30/30 [00:59<00:00,  1.98s/it]\n",
      "100%|██████████| 30/30 [00:54<00:00,  1.83s/it]\n",
      "100%|██████████| 30/30 [00:20<00:00,  1.49it/s]\n",
      "100%|██████████| 30/30 [00:19<00:00,  1.53it/s]\n",
      "100%|██████████| 30/30 [00:20<00:00,  1.45it/s]\n",
      "100%|██████████| 30/30 [00:10<00:00,  2.99it/s]\n",
      "100%|██████████| 30/30 [00:10<00:00,  2.94it/s]\n",
      "100%|██████████| 30/30 [00:10<00:00,  2.92it/s]\n"
     ]
    }
   ],
   "source": [
    "for index, kernel in enumerate(size_array):\n",
    "    with open('experiment.txt', 'a') as file:\n",
    "        file.write(f\"OliveOil({size_list[index]}) \")\n",
    "    for i in range (1, 6, 2):\n",
    "        accuracy = knn_WTK(X_train=X_train, X_test=X_test, y_train=y_train, y_test=y_test, data_set=\"OliveOil\", sub_length=kernel, k=i)\n",
    "        with open('experiment.txt', 'a') as file:\n",
    "            if i == 5:\n",
    "                file.write(f\"&{round(accuracy, 2)}\\\\\\ \\n\")\n",
    "            else:\n",
    "                file.write(f\"&{round(accuracy, 2)} \")\n",
    "\n",
    "with open('experiment.txt', 'a') as file:\n",
    "    file.write(f\"--------------------------------------------------------------------------------------------------\\n\")"
   ]
  },
  {
   "cell_type": "markdown",
   "metadata": {},
   "source": [
    "### Plane"
   ]
  },
  {
   "cell_type": "code",
   "execution_count": 59,
   "metadata": {},
   "outputs": [],
   "source": [
    "X_train, y_train, X_test, y_test = getData('Plane', '../data/UCR/raw_data/')"
   ]
  },
  {
   "cell_type": "code",
   "execution_count": 60,
   "metadata": {},
   "outputs": [
    {
     "data": {
      "text/plain": [
       "[14, 43, 72]"
      ]
     },
     "execution_count": 60,
     "metadata": {},
     "output_type": "execute_result"
    }
   ],
   "source": [
    "size_array = findTheShortestArray(X_train, X_test)\n",
    "size_array"
   ]
  },
  {
   "cell_type": "code",
   "execution_count": 61,
   "metadata": {},
   "outputs": [
    {
     "name": "stderr",
     "output_type": "stream",
     "text": [
      "100%|██████████| 105/105 [00:41<00:00,  2.50it/s]\n",
      "100%|██████████| 105/105 [00:43<00:00,  2.43it/s]\n",
      "100%|██████████| 105/105 [00:42<00:00,  2.47it/s]\n",
      "100%|██████████| 105/105 [00:42<00:00,  2.45it/s]\n",
      "100%|██████████| 105/105 [00:32<00:00,  3.24it/s]\n",
      "100%|██████████| 105/105 [00:35<00:00,  2.99it/s]\n",
      "100%|██████████| 105/105 [00:23<00:00,  4.41it/s]\n",
      "100%|██████████| 105/105 [00:23<00:00,  4.53it/s]\n",
      "100%|██████████| 105/105 [00:23<00:00,  4.51it/s]\n"
     ]
    }
   ],
   "source": [
    "for index, kernel in enumerate(size_array):\n",
    "    with open('experiment.txt', 'a') as file:\n",
    "        file.write(f\"Plane({size_list[index]}) \")\n",
    "    for i in range (1, 6, 2):\n",
    "        accuracy = knn_WTK(X_train=X_train, X_test=X_test, y_train=y_train, y_test=y_test, data_set=\"Plane\", sub_length=kernel, k=i)\n",
    "        with open('experiment.txt', 'a') as file:\n",
    "            if i == 5:\n",
    "                file.write(f\"&{round(accuracy, 2)}\\\\\\ \\n\")\n",
    "            else:\n",
    "                file.write(f\"&{round(accuracy, 2)} \")\n",
    "\n",
    "with open('experiment.txt', 'a') as file:\n",
    "    file.write(f\"--------------------------------------------------------------------------------------------------\\n\")"
   ]
  },
  {
   "cell_type": "markdown",
   "metadata": {},
   "source": [
    "### SmoothSubspace"
   ]
  },
  {
   "cell_type": "code",
   "execution_count": 62,
   "metadata": {},
   "outputs": [],
   "source": [
    "X_train, y_train, X_test, y_test = getData('SmoothSubspace', '../data/UCR/raw_data/')"
   ]
  },
  {
   "cell_type": "code",
   "execution_count": 63,
   "metadata": {},
   "outputs": [
    {
     "data": {
      "text/plain": [
       "[1, 4, 7]"
      ]
     },
     "execution_count": 63,
     "metadata": {},
     "output_type": "execute_result"
    }
   ],
   "source": [
    "size_array = findTheShortestArray(X_train, X_test)\n",
    "size_array"
   ]
  },
  {
   "cell_type": "code",
   "execution_count": 64,
   "metadata": {},
   "outputs": [
    {
     "name": "stderr",
     "output_type": "stream",
     "text": [
      "100%|██████████| 150/150 [00:12<00:00, 11.69it/s]\n",
      "100%|██████████| 150/150 [00:17<00:00,  8.79it/s]\n",
      "100%|██████████| 150/150 [00:13<00:00, 11.48it/s]\n",
      "100%|██████████| 150/150 [00:11<00:00, 12.93it/s]\n",
      "100%|██████████| 150/150 [00:15<00:00,  9.97it/s]\n",
      "100%|██████████| 150/150 [00:12<00:00, 11.71it/s]\n",
      "100%|██████████| 150/150 [00:11<00:00, 12.60it/s]\n",
      "100%|██████████| 150/150 [00:12<00:00, 11.80it/s]\n",
      "100%|██████████| 150/150 [00:12<00:00, 11.64it/s]\n"
     ]
    }
   ],
   "source": [
    "for index, kernel in enumerate(size_array):\n",
    "    with open('experiment.txt', 'a') as file:\n",
    "        file.write(f\"SmoothSubspace({size_list[index]}) \")\n",
    "    for i in range (1, 6, 2):\n",
    "        accuracy = knn_WTK(X_train=X_train, X_test=X_test, y_train=y_train, y_test=y_test, data_set=\"SmoothSubspace\", sub_length=kernel, k=i)\n",
    "        with open('experiment.txt', 'a') as file:\n",
    "            if i == 5:\n",
    "                file.write(f\"&{round(accuracy, 2)}\\\\\\ \\n\")\n",
    "            else:\n",
    "                file.write(f\"&{round(accuracy, 2)} \")\n",
    "\n",
    "with open('experiment.txt', 'a') as file:\n",
    "    file.write(f\"--------------------------------------------------------------------------------------------------\\n\")"
   ]
  },
  {
   "cell_type": "markdown",
   "metadata": {},
   "source": [
    "### SonyAIBORobotSurface1"
   ]
  },
  {
   "cell_type": "code",
   "execution_count": 65,
   "metadata": {},
   "outputs": [],
   "source": [
    "X_train, y_train, X_test, y_test = getData('SonyAIBORobotSurface1', '../data/UCR/raw_data/')"
   ]
  },
  {
   "cell_type": "code",
   "execution_count": 66,
   "metadata": {},
   "outputs": [
    {
     "data": {
      "text/plain": [
       "[7, 21, 35]"
      ]
     },
     "execution_count": 66,
     "metadata": {},
     "output_type": "execute_result"
    }
   ],
   "source": [
    "size_array = findTheShortestArray(X_train, X_test)\n",
    "size_array"
   ]
  },
  {
   "cell_type": "code",
   "execution_count": 67,
   "metadata": {},
   "outputs": [
    {
     "name": "stderr",
     "output_type": "stream",
     "text": [
      "100%|██████████| 20/20 [00:16<00:00,  1.22it/s]\n",
      "100%|██████████| 20/20 [00:16<00:00,  1.18it/s]\n",
      "100%|██████████| 20/20 [00:13<00:00,  1.44it/s]\n",
      "100%|██████████| 20/20 [00:10<00:00,  1.90it/s]\n",
      "100%|██████████| 20/20 [00:10<00:00,  1.83it/s]\n",
      "100%|██████████| 20/20 [00:11<00:00,  1.81it/s]\n",
      "100%|██████████| 20/20 [00:08<00:00,  2.43it/s]\n",
      "100%|██████████| 20/20 [00:07<00:00,  2.53it/s]\n",
      "100%|██████████| 20/20 [00:07<00:00,  2.56it/s]\n"
     ]
    }
   ],
   "source": [
    "for index, kernel in enumerate(size_array):\n",
    "    with open('experiment.txt', 'a') as file:\n",
    "        file.write(f\"SonyAIBORobotSurface1({size_list[index]}) \")\n",
    "    for i in range (1, 6, 2):\n",
    "        accuracy = knn_WTK(X_train=X_train, X_test=X_test, y_train=y_train, y_test=y_test, data_set=\"SonyAIBORobotSurface1\", sub_length=kernel, k=i)\n",
    "        with open('experiment.txt', 'a') as file:\n",
    "            if i == 5:\n",
    "                file.write(f\"&{round(accuracy, 2)}\\\\\\ \\n\")\n",
    "            else:\n",
    "                file.write(f\"&{round(accuracy, 2)} \")\n",
    "\n",
    "with open('experiment.txt', 'a') as file:\n",
    "    file.write(f\"--------------------------------------------------------------------------------------------------\\n\")"
   ]
  },
  {
   "cell_type": "markdown",
   "metadata": {},
   "source": [
    "### SonyAIBORobotSurface2"
   ]
  },
  {
   "cell_type": "code",
   "execution_count": 68,
   "metadata": {},
   "outputs": [],
   "source": [
    "X_train, y_train, X_test, y_test = getData('SonyAIBORobotSurface2', '../data/UCR/raw_data/')"
   ]
  },
  {
   "cell_type": "code",
   "execution_count": 69,
   "metadata": {},
   "outputs": [
    {
     "data": {
      "text/plain": [
       "[6, 19, 32]"
      ]
     },
     "execution_count": 69,
     "metadata": {},
     "output_type": "execute_result"
    }
   ],
   "source": [
    "size_array = findTheShortestArray(X_train, X_test)\n",
    "size_array"
   ]
  },
  {
   "cell_type": "code",
   "execution_count": 70,
   "metadata": {},
   "outputs": [
    {
     "name": "stderr",
     "output_type": "stream",
     "text": [
      "100%|██████████| 27/27 [00:27<00:00,  1.02s/it]\n",
      "100%|██████████| 27/27 [00:27<00:00,  1.03s/it]\n",
      "100%|██████████| 27/27 [00:27<00:00,  1.01s/it]\n",
      "100%|██████████| 27/27 [00:22<00:00,  1.22it/s]\n",
      "100%|██████████| 27/27 [00:22<00:00,  1.21it/s]\n",
      "100%|██████████| 27/27 [00:22<00:00,  1.20it/s]\n",
      "100%|██████████| 27/27 [00:17<00:00,  1.57it/s]\n",
      "100%|██████████| 27/27 [00:17<00:00,  1.55it/s]\n",
      "100%|██████████| 27/27 [00:16<00:00,  1.61it/s]\n"
     ]
    }
   ],
   "source": [
    "for index, kernel in enumerate(size_array):\n",
    "    with open('experiment.txt', 'a') as file:\n",
    "        file.write(f\"SonyAIBORobotSurface2({size_list[index]}) \")\n",
    "    for i in range (1, 6, 2):\n",
    "        accuracy = knn_WTK(X_train=X_train, X_test=X_test, y_train=y_train, y_test=y_test, data_set=\"SonyAIBORobotSurface2\", sub_length=kernel, k=i)\n",
    "        with open('experiment.txt', 'a') as file:\n",
    "            if i == 5:\n",
    "                file.write(f\"&{round(accuracy, 2)}\\\\\\ \\n\")\n",
    "            else:\n",
    "                file.write(f\"&{round(accuracy, 2)} \")\n",
    "\n",
    "with open('experiment.txt', 'a') as file:\n",
    "    file.write(f\"--------------------------------------------------------------------------------------------------\\n\")"
   ]
  },
  {
   "cell_type": "markdown",
   "metadata": {},
   "source": [
    "### ToeSegmentation2"
   ]
  },
  {
   "cell_type": "code",
   "execution_count": 71,
   "metadata": {},
   "outputs": [],
   "source": [
    "X_train, y_train, X_test, y_test = getData('ToeSegmentation2', '../data/UCR/raw_data/')"
   ]
  },
  {
   "cell_type": "code",
   "execution_count": 72,
   "metadata": {},
   "outputs": [
    {
     "data": {
      "text/plain": [
       "[34, 102, 171]"
      ]
     },
     "execution_count": 72,
     "metadata": {},
     "output_type": "execute_result"
    }
   ],
   "source": [
    "size_array = findTheShortestArray(X_train, X_test)\n",
    "size_array"
   ]
  },
  {
   "cell_type": "code",
   "execution_count": 73,
   "metadata": {},
   "outputs": [
    {
     "name": "stderr",
     "output_type": "stream",
     "text": [
      "100%|██████████| 36/36 [02:12<00:00,  3.67s/it]\n",
      "100%|██████████| 36/36 [02:16<00:00,  3.78s/it]\n",
      "100%|██████████| 36/36 [02:15<00:00,  3.76s/it]\n",
      "100%|██████████| 36/36 [01:25<00:00,  2.37s/it]\n",
      "100%|██████████| 36/36 [01:24<00:00,  2.35s/it]\n",
      "100%|██████████| 36/36 [01:23<00:00,  2.33s/it]\n",
      "100%|██████████| 36/36 [00:44<00:00,  1.25s/it]\n",
      "100%|██████████| 36/36 [00:43<00:00,  1.22s/it]\n",
      "100%|██████████| 36/36 [00:46<00:00,  1.29s/it]\n"
     ]
    }
   ],
   "source": [
    "for index, kernel in enumerate(size_array):\n",
    "    with open('experiment.txt', 'a') as file:\n",
    "        file.write(f\"ToeSegmentation2({size_list[index]}) \")\n",
    "    for i in range (1, 6, 2):\n",
    "        accuracy = knn_WTK(X_train=X_train, X_test=X_test, y_train=y_train, y_test=y_test, data_set=\"ToeSegmentation2\", sub_length=kernel, k=i)\n",
    "        with open('experiment.txt', 'a') as file:\n",
    "            if i == 5:\n",
    "                file.write(f\"&{round(accuracy, 2)}\\\\\\ \\n\")\n",
    "            else:\n",
    "                file.write(f\"&{round(accuracy, 2)} \")\n",
    "\n",
    "with open('experiment.txt', 'a') as file:\n",
    "    file.write(f\"--------------------------------------------------------------------------------------------------\\n\")"
   ]
  }
 ],
 "metadata": {
  "kernelspec": {
   "display_name": "venv",
   "language": "python",
   "name": "python3"
  },
  "language_info": {
   "codemirror_mode": {
    "name": "ipython",
    "version": 3
   },
   "file_extension": ".py",
   "mimetype": "text/x-python",
   "name": "python",
   "nbconvert_exporter": "python",
   "pygments_lexer": "ipython3",
   "version": "3.11.5"
  },
  "orig_nbformat": 4
 },
 "nbformat": 4,
 "nbformat_minor": 2
}

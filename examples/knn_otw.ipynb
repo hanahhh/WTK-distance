{
 "cells": [
  {
   "cell_type": "code",
   "execution_count": 5,
   "metadata": {},
   "outputs": [],
   "source": [
    "import logging\n",
    "logging.basicConfig(level=logging.DEBUG)\n",
    "from sklearn.metrics import accuracy_score\n",
    "from sklearn.svm import SVC\n",
    "from ot_dis.wtk.utilities import get_ucr_dataset, krein_svm_grid_search\n",
    "from ot_dis.wtk import transform_to_dist_matrix, get_kernel_matrix, wtk_distance\n",
    "import numpy as np\n",
    "import os\n",
    "from getData import getData\n",
    "from knn import knn_OTW"
   ]
  },
  {
   "cell_type": "code",
   "execution_count": 6,
   "metadata": {},
   "outputs": [],
   "source": [
    "local_size = [1/5, 1/3, 1/2, 1]\n",
    "local_size_key = [\"1/5\", \"1/3\", \"1/2\", \"1\"]"
   ]
  },
  {
   "cell_type": "markdown",
   "metadata": {},
   "source": [
    "### BME dataset"
   ]
  },
  {
   "cell_type": "code",
   "execution_count": 7,
   "metadata": {},
   "outputs": [],
   "source": [
    "X_train, y_train, X_test, y_test = getData('BME', '../data/UCR/raw_data/')\n",
    "m = int(len(X_train[0])/2)"
   ]
  },
  {
   "cell_type": "code",
   "execution_count": 4,
   "metadata": {},
   "outputs": [
    {
     "name": "stderr",
     "output_type": "stream",
     "text": [
      "100%|██████████| 30/30 [00:09<00:00,  3.13it/s]\n",
      "100%|██████████| 30/30 [00:09<00:00,  3.18it/s]\n",
      "100%|██████████| 30/30 [00:09<00:00,  3.15it/s]\n",
      "100%|██████████| 30/30 [00:08<00:00,  3.51it/s]\n",
      "100%|██████████| 30/30 [00:08<00:00,  3.37it/s]\n",
      "100%|██████████| 30/30 [00:08<00:00,  3.71it/s]\n",
      "100%|██████████| 30/30 [00:07<00:00,  4.09it/s]\n",
      "100%|██████████| 30/30 [00:07<00:00,  4.14it/s]\n",
      "100%|██████████| 30/30 [00:07<00:00,  4.05it/s]\n",
      "100%|██████████| 30/30 [00:05<00:00,  5.34it/s]\n",
      "100%|██████████| 30/30 [00:05<00:00,  5.22it/s]\n",
      "100%|██████████| 30/30 [00:05<00:00,  5.03it/s]\n"
     ]
    }
   ],
   "source": [
    "for index, kernel in enumerate(local_size):\n",
    "    with open('experiment_otw.txt', 'a') as file:\n",
    "        file.write(f\"BME({local_size_key[index]}) \")\n",
    "    for i in range (1, 6, 2):\n",
    "        accuracy = knn_OTW(X_train=X_train, X_test=X_test, y_train=y_train, y_test=y_test, m = m, s=kernel, k=i)\n",
    "        with open('experiment_otw.txt', 'a') as file:\n",
    "            if i == 5:\n",
    "                file.write(f\"&{round(accuracy, 2)}\\\\\\ \\n\")\n",
    "            else:\n",
    "                file.write(f\"&{round(accuracy, 2)} \")\n",
    "with open('experiment_otw.txt', 'a') as file:\n",
    "    file.write(f\"--------------------------------------------------------------------------------------------------\\n\")"
   ]
  },
  {
   "cell_type": "markdown",
   "metadata": {},
   "source": [
    "### BeetleFly"
   ]
  },
  {
   "cell_type": "code",
   "execution_count": 5,
   "metadata": {},
   "outputs": [],
   "source": [
    "X_train, y_train, X_test, y_test = getData('BeetleFly', '../data/UCR/raw_data/')\n",
    "m = int(len(X_train[0])/2)"
   ]
  },
  {
   "cell_type": "code",
   "execution_count": 6,
   "metadata": {},
   "outputs": [
    {
     "name": "stderr",
     "output_type": "stream",
     "text": [
      "100%|██████████| 20/20 [00:00<00:00, 54.80it/s]\n",
      "100%|██████████| 20/20 [00:00<00:00, 48.80it/s]\n",
      "100%|██████████| 20/20 [00:00<00:00, 43.98it/s]\n",
      "100%|██████████| 20/20 [00:00<00:00, 39.10it/s]\n",
      "100%|██████████| 20/20 [00:00<00:00, 37.66it/s]\n",
      "100%|██████████| 20/20 [00:00<00:00, 36.59it/s]\n",
      "100%|██████████| 20/20 [00:00<00:00, 38.29it/s]\n",
      "100%|██████████| 20/20 [00:00<00:00, 37.09it/s]\n",
      "100%|██████████| 20/20 [00:00<00:00, 53.01it/s]\n",
      "100%|██████████| 20/20 [00:00<00:00, 55.93it/s]\n",
      "100%|██████████| 20/20 [00:00<00:00, 56.89it/s]\n",
      "100%|██████████| 20/20 [00:00<00:00, 51.27it/s]\n"
     ]
    }
   ],
   "source": [
    "for index, kernel in enumerate(local_size):\n",
    "    with open('experiment_otw.txt', 'a') as file:\n",
    "        file.write(f\"BeetleFly({local_size_key[index]}) \")\n",
    "    for i in range (1, 6, 2):\n",
    "        accuracy = knn_OTW(X_train=X_train, X_test=X_test, y_train=y_train, y_test=y_test, m = m, s=kernel, k=i)\n",
    "        with open('experiment_otw.txt', 'a') as file:\n",
    "            if i == 5:\n",
    "                file.write(f\"&{round(accuracy, 2)}\\\\\\ \\n\")\n",
    "            else:\n",
    "                file.write(f\"&{round(accuracy, 2)} \")\n",
    "with open('experiment_otw.txt', 'a') as file:\n",
    "    file.write(f\"--------------------------------------------------------------------------------------------------\\n\")"
   ]
  },
  {
   "cell_type": "markdown",
   "metadata": {},
   "source": [
    "### BirdChicken"
   ]
  },
  {
   "cell_type": "code",
   "execution_count": 7,
   "metadata": {},
   "outputs": [],
   "source": [
    "X_train, y_train, X_test, y_test = getData('BirdChicken', '../data/UCR/raw_data/')\n",
    "m = int(len(X_train[0])/2)"
   ]
  },
  {
   "cell_type": "code",
   "execution_count": 8,
   "metadata": {},
   "outputs": [
    {
     "name": "stderr",
     "output_type": "stream",
     "text": [
      "100%|██████████| 20/20 [00:00<00:00, 53.91it/s]\n",
      "100%|██████████| 20/20 [00:00<00:00, 51.48it/s]\n",
      "100%|██████████| 20/20 [00:00<00:00, 56.76it/s]\n",
      "100%|██████████| 20/20 [00:00<00:00, 59.06it/s]\n",
      "100%|██████████| 20/20 [00:00<00:00, 54.99it/s]\n",
      "100%|██████████| 20/20 [00:00<00:00, 61.82it/s]\n",
      "100%|██████████| 20/20 [00:00<00:00, 61.41it/s]\n",
      "100%|██████████| 20/20 [00:00<00:00, 57.39it/s]\n",
      "100%|██████████| 20/20 [00:00<00:00, 58.93it/s]\n",
      "100%|██████████| 20/20 [00:00<00:00, 62.89it/s]\n",
      "100%|██████████| 20/20 [00:00<00:00, 61.00it/s]\n",
      "100%|██████████| 20/20 [00:00<00:00, 46.51it/s]\n"
     ]
    }
   ],
   "source": [
    "for index, kernel in enumerate(local_size):\n",
    "    with open('experiment_otw.txt', 'a') as file:\n",
    "        file.write(f\"BirdChicken({local_size_key[index]}) \")\n",
    "    for i in range (1, 6, 2):\n",
    "        accuracy = knn_OTW(X_train=X_train, X_test=X_test, y_train=y_train, y_test=y_test, m = m, s=kernel, k=i)\n",
    "        with open('experiment_otw.txt', 'a') as file:\n",
    "            if i == 5:\n",
    "                file.write(f\"&{round(accuracy, 2)}\\\\\\ \\n\")\n",
    "            else:\n",
    "                file.write(f\"&{round(accuracy, 2)} \")\n",
    "with open('experiment_otw.txt', 'a') as file:\n",
    "    file.write(f\"--------------------------------------------------------------------------------------------------\\n\")"
   ]
  },
  {
   "cell_type": "markdown",
   "metadata": {},
   "source": [
    "### Chinatown"
   ]
  },
  {
   "cell_type": "code",
   "execution_count": 9,
   "metadata": {},
   "outputs": [],
   "source": [
    "X_train, y_train, X_test, y_test = getData('Chinatown', '../data/UCR/raw_data/')\n",
    "m = int(len(X_train[0])/2)"
   ]
  },
  {
   "cell_type": "code",
   "execution_count": 10,
   "metadata": {},
   "outputs": [
    {
     "name": "stderr",
     "output_type": "stream",
     "text": [
      "100%|██████████| 20/20 [00:00<00:00, 62.30it/s]\n",
      "100%|██████████| 20/20 [00:00<00:00, 57.89it/s]\n",
      "100%|██████████| 20/20 [00:00<00:00, 63.66it/s]\n",
      "100%|██████████| 20/20 [00:00<00:00, 58.34it/s]\n",
      "100%|██████████| 20/20 [00:00<00:00, 64.03it/s]\n",
      "100%|██████████| 20/20 [00:00<00:00, 64.27it/s]\n",
      "100%|██████████| 20/20 [00:00<00:00, 63.79it/s]\n",
      "100%|██████████| 20/20 [00:00<00:00, 68.41it/s]\n",
      "100%|██████████| 20/20 [00:00<00:00, 52.62it/s]\n",
      "100%|██████████| 20/20 [00:00<00:00, 56.92it/s]\n",
      "100%|██████████| 20/20 [00:00<00:00, 66.75it/s]\n",
      "100%|██████████| 20/20 [00:00<00:00, 50.02it/s]\n"
     ]
    }
   ],
   "source": [
    "for index, kernel in enumerate(local_size):\n",
    "    with open('experiment_otw.txt', 'a') as file:\n",
    "        file.write(f\"Chinatown({local_size_key[index]}) \")\n",
    "    for i in range (1, 6, 2):\n",
    "        accuracy = knn_OTW(X_train=X_train, X_test=X_test, y_train=y_train, y_test=y_test, m = m, s=kernel, k=i)\n",
    "        with open('experiment_otw.txt', 'a') as file:\n",
    "            if i == 5:\n",
    "                file.write(f\"&{round(accuracy, 2)}\\\\\\ \\n\")\n",
    "            else:\n",
    "                file.write(f\"&{round(accuracy, 2)} \")\n",
    "with open('experiment_otw.txt', 'a') as file:\n",
    "    file.write(f\"--------------------------------------------------------------------------------------------------\\n\")"
   ]
  },
  {
   "cell_type": "markdown",
   "metadata": {},
   "source": [
    "### Coffee"
   ]
  },
  {
   "cell_type": "code",
   "execution_count": 11,
   "metadata": {},
   "outputs": [],
   "source": [
    "X_train, y_train, X_test, y_test = getData('Coffee', '../data/UCR/raw_data/')\n",
    "m = int(len(X_train[0])/2)"
   ]
  },
  {
   "cell_type": "code",
   "execution_count": 12,
   "metadata": {},
   "outputs": [
    {
     "name": "stderr",
     "output_type": "stream",
     "text": [
      "100%|██████████| 28/28 [00:00<00:00, 40.61it/s]\n",
      "100%|██████████| 28/28 [00:00<00:00, 44.10it/s]\n",
      "100%|██████████| 28/28 [00:00<00:00, 38.56it/s]\n",
      "100%|██████████| 28/28 [00:00<00:00, 39.97it/s]\n",
      "100%|██████████| 28/28 [00:00<00:00, 43.46it/s]\n",
      "100%|██████████| 28/28 [00:00<00:00, 40.84it/s]\n",
      "100%|██████████| 28/28 [00:00<00:00, 43.94it/s]\n",
      "100%|██████████| 28/28 [00:00<00:00, 42.32it/s]\n",
      "100%|██████████| 28/28 [00:00<00:00, 43.97it/s]\n",
      "100%|██████████| 28/28 [00:00<00:00, 47.36it/s]\n",
      "100%|██████████| 28/28 [00:00<00:00, 44.99it/s]\n",
      "100%|██████████| 28/28 [00:00<00:00, 41.16it/s]\n"
     ]
    }
   ],
   "source": [
    "for index, kernel in enumerate(local_size):\n",
    "    with open('experiment_otw.txt', 'a') as file:\n",
    "        file.write(f\"Coffee({local_size_key[index]}) \")\n",
    "    for i in range (1, 6, 2):\n",
    "        accuracy = knn_OTW(X_train=X_train, X_test=X_test, y_train=y_train, y_test=y_test, m = m, s=kernel, k=i)\n",
    "        with open('experiment_otw.txt', 'a') as file:\n",
    "            if i == 5:\n",
    "                file.write(f\"&{round(accuracy, 2)}\\\\\\ \\n\")\n",
    "            else:\n",
    "                file.write(f\"&{round(accuracy, 2)} \")\n",
    "with open('experiment_otw.txt', 'a') as file:\n",
    "    file.write(f\"--------------------------------------------------------------------------------------------------\\n\")"
   ]
  },
  {
   "cell_type": "markdown",
   "metadata": {},
   "source": [
    "### DistalPhalanxOutlineCorrect"
   ]
  },
  {
   "cell_type": "code",
   "execution_count": 13,
   "metadata": {},
   "outputs": [],
   "source": [
    "X_train, y_train, X_test, y_test = getData('DistalPhalanxOutlineCorrect', '../data/UCR/raw_data/')\n",
    "m = int(len(X_train[0])/2)"
   ]
  },
  {
   "cell_type": "code",
   "execution_count": 14,
   "metadata": {},
   "outputs": [
    {
     "name": "stderr",
     "output_type": "stream",
     "text": [
      "100%|██████████| 600/600 [00:26<00:00, 22.63it/s]\n",
      "100%|██████████| 600/600 [00:25<00:00, 23.39it/s]\n",
      "100%|██████████| 600/600 [00:30<00:00, 19.54it/s]\n",
      "100%|██████████| 600/600 [00:25<00:00, 23.98it/s]\n",
      "100%|██████████| 600/600 [00:19<00:00, 30.96it/s]\n",
      "100%|██████████| 600/600 [00:25<00:00, 23.73it/s]\n",
      "100%|██████████| 600/600 [00:22<00:00, 26.89it/s]\n",
      "100%|██████████| 600/600 [00:28<00:00, 20.86it/s]\n",
      "100%|██████████| 600/600 [00:28<00:00, 21.35it/s]\n",
      "100%|██████████| 600/600 [00:24<00:00, 24.02it/s]\n",
      "100%|██████████| 600/600 [00:24<00:00, 24.28it/s]\n",
      "100%|██████████| 600/600 [00:38<00:00, 15.57it/s]\n"
     ]
    }
   ],
   "source": [
    "for index, kernel in enumerate(local_size):\n",
    "    with open('experiment_otw.txt', 'a') as file:\n",
    "        file.write(f\"DistalPhalanxOutlineCorrect({local_size_key[index]}) \")\n",
    "    for i in range (1, 6, 2):\n",
    "        accuracy = knn_OTW(X_train=X_train, X_test=X_test, y_train=y_train, y_test=y_test, m = m, s=kernel, k=i)\n",
    "        with open('experiment_otw.txt', 'a') as file:\n",
    "            if i == 5:\n",
    "                file.write(f\"&{round(accuracy, 2)}\\\\\\ \\n\")\n",
    "            else:\n",
    "                file.write(f\"&{round(accuracy, 2)} \")\n",
    "with open('experiment_otw.txt', 'a') as file:\n",
    "    file.write(f\"--------------------------------------------------------------------------------------------------\\n\")"
   ]
  },
  {
   "cell_type": "markdown",
   "metadata": {},
   "source": [
    "### DistalPhalanxTW"
   ]
  },
  {
   "cell_type": "code",
   "execution_count": 15,
   "metadata": {},
   "outputs": [],
   "source": [
    "X_train, y_train, X_test, y_test = getData('DistalPhalanxTW', '../data/UCR/raw_data/')\n",
    "m = int(len(X_train[0])/2)"
   ]
  },
  {
   "cell_type": "code",
   "execution_count": 16,
   "metadata": {},
   "outputs": [
    {
     "name": "stderr",
     "output_type": "stream",
     "text": [
      "100%|██████████| 139/139 [00:09<00:00, 15.36it/s]\n",
      "100%|██████████| 139/139 [00:09<00:00, 14.95it/s]\n",
      "100%|██████████| 139/139 [00:10<00:00, 13.89it/s]\n",
      "100%|██████████| 139/139 [00:10<00:00, 13.18it/s]\n",
      "100%|██████████| 139/139 [00:07<00:00, 18.57it/s]\n",
      "100%|██████████| 139/139 [00:08<00:00, 15.92it/s]\n",
      "100%|██████████| 139/139 [00:09<00:00, 14.47it/s]\n",
      "100%|██████████| 139/139 [00:10<00:00, 13.08it/s]\n",
      "100%|██████████| 139/139 [00:08<00:00, 16.44it/s]\n",
      "100%|██████████| 139/139 [00:07<00:00, 18.57it/s]\n",
      "100%|██████████| 139/139 [00:07<00:00, 18.80it/s]\n",
      "100%|██████████| 139/139 [00:07<00:00, 19.73it/s]\n"
     ]
    }
   ],
   "source": [
    "for index, kernel in enumerate(local_size):\n",
    "    with open('experiment_otw.txt', 'a') as file:\n",
    "        file.write(f\"DistalPhalanxTW({local_size_key[index]}) \")\n",
    "    for i in range (1, 6, 2):\n",
    "        accuracy = knn_OTW(X_train=X_train, X_test=X_test, y_train=y_train, y_test=y_test, m = m, s=kernel, k=i)\n",
    "        with open('experiment_otw.txt', 'a') as file:\n",
    "            if i == 5:\n",
    "                file.write(f\"&{round(accuracy, 2)}\\\\\\ \\n\")\n",
    "            else:\n",
    "                file.write(f\"&{round(accuracy, 2)} \")\n",
    "with open('experiment_otw.txt', 'a') as file:\n",
    "    file.write(f\"--------------------------------------------------------------------------------------------------\\n\")"
   ]
  },
  {
   "cell_type": "markdown",
   "metadata": {},
   "source": [
    "### ECG200"
   ]
  },
  {
   "cell_type": "code",
   "execution_count": 17,
   "metadata": {},
   "outputs": [],
   "source": [
    "X_train, y_train, X_test, y_test = getData('ECG200', '../data/UCR/raw_data/')\n",
    "m = int(len(X_train[0])/2)"
   ]
  },
  {
   "cell_type": "code",
   "execution_count": 18,
   "metadata": {},
   "outputs": [
    {
     "name": "stderr",
     "output_type": "stream",
     "text": [
      "100%|██████████| 100/100 [00:02<00:00, 40.81it/s]\n",
      "100%|██████████| 100/100 [00:02<00:00, 46.07it/s]\n",
      "100%|██████████| 100/100 [00:02<00:00, 44.64it/s]\n",
      "100%|██████████| 100/100 [00:02<00:00, 41.92it/s]\n",
      "100%|██████████| 100/100 [00:02<00:00, 46.38it/s]\n",
      "100%|██████████| 100/100 [00:02<00:00, 46.98it/s]\n",
      "100%|██████████| 100/100 [00:02<00:00, 43.61it/s]\n",
      "100%|██████████| 100/100 [00:02<00:00, 49.98it/s]\n",
      "100%|██████████| 100/100 [00:02<00:00, 49.04it/s]\n",
      "100%|██████████| 100/100 [00:02<00:00, 46.09it/s]\n",
      "100%|██████████| 100/100 [00:02<00:00, 40.33it/s]\n",
      "100%|██████████| 100/100 [00:02<00:00, 45.55it/s]\n"
     ]
    }
   ],
   "source": [
    "for index, kernel in enumerate(local_size):\n",
    "    with open('experiment_otw.txt', 'a') as file:\n",
    "        file.write(f\"ECG200({local_size_key[index]}) \")\n",
    "    for i in range (1, 6, 2):\n",
    "        accuracy = knn_OTW(X_train=X_train, X_test=X_test, y_train=y_train, y_test=y_test, m = m, s=kernel, k=i)\n",
    "        with open('experiment_otw.txt', 'a') as file:\n",
    "            if i == 5:\n",
    "                file.write(f\"&{round(accuracy, 2)}\\\\\\ \\n\")\n",
    "            else:\n",
    "                file.write(f\"&{round(accuracy, 2)} \")\n",
    "with open('experiment_otw.txt', 'a') as file:\n",
    "    file.write(f\"--------------------------------------------------------------------------------------------------\\n\")"
   ]
  },
  {
   "cell_type": "markdown",
   "metadata": {},
   "source": [
    "### FaceFour"
   ]
  },
  {
   "cell_type": "code",
   "execution_count": 19,
   "metadata": {},
   "outputs": [],
   "source": [
    "X_train, y_train, X_test, y_test = getData('FaceFour', '../data/UCR/raw_data/')\n",
    "m = int(len(X_train[0])/2)"
   ]
  },
  {
   "cell_type": "code",
   "execution_count": 20,
   "metadata": {},
   "outputs": [
    {
     "name": "stderr",
     "output_type": "stream",
     "text": [
      "100%|██████████| 24/24 [00:01<00:00, 16.54it/s]\n",
      "100%|██████████| 24/24 [00:01<00:00, 18.03it/s]\n",
      "100%|██████████| 24/24 [00:01<00:00, 16.41it/s]\n",
      "100%|██████████| 24/24 [00:01<00:00, 18.72it/s]\n",
      "100%|██████████| 24/24 [00:01<00:00, 19.86it/s]\n",
      "100%|██████████| 24/24 [00:01<00:00, 17.00it/s]\n",
      "100%|██████████| 24/24 [00:01<00:00, 16.48it/s]\n",
      "100%|██████████| 24/24 [00:01<00:00, 16.25it/s]\n",
      "100%|██████████| 24/24 [00:01<00:00, 20.51it/s]\n",
      "100%|██████████| 24/24 [00:01<00:00, 21.12it/s]\n",
      "100%|██████████| 24/24 [00:01<00:00, 20.25it/s]\n",
      "100%|██████████| 24/24 [00:01<00:00, 23.79it/s]\n"
     ]
    }
   ],
   "source": [
    "for index, kernel in enumerate(local_size):\n",
    "    with open('experiment_otw.txt', 'a') as file:\n",
    "        file.write(f\"FaceFour({local_size_key[index]}) \")\n",
    "    for i in range (1, 6, 2):\n",
    "        accuracy = knn_OTW(X_train=X_train, X_test=X_test, y_train=y_train, y_test=y_test, m = m, s=kernel, k=i)\n",
    "        with open('experiment_otw.txt', 'a') as file:\n",
    "            if i == 5:\n",
    "                file.write(f\"&{round(accuracy, 2)}\\\\\\ \\n\")\n",
    "            else:\n",
    "                file.write(f\"&{round(accuracy, 2)} \")\n",
    "with open('experiment_otw.txt', 'a') as file:\n",
    "    file.write(f\"--------------------------------------------------------------------------------------------------\\n\")"
   ]
  },
  {
   "cell_type": "markdown",
   "metadata": {},
   "source": [
    "### Fungi"
   ]
  },
  {
   "cell_type": "code",
   "execution_count": 21,
   "metadata": {},
   "outputs": [],
   "source": [
    "X_train, y_train, X_test, y_test = getData('Fungi', '../data/UCR/raw_data/')\n",
    "m = int(len(X_train[0])/2)"
   ]
  },
  {
   "cell_type": "code",
   "execution_count": 22,
   "metadata": {},
   "outputs": [
    {
     "name": "stderr",
     "output_type": "stream",
     "text": [
      "100%|██████████| 18/18 [00:01<00:00, 16.10it/s]\n",
      "100%|██████████| 18/18 [00:01<00:00, 15.21it/s]\n",
      "100%|██████████| 18/18 [00:01<00:00, 16.95it/s]\n",
      "100%|██████████| 18/18 [00:01<00:00, 16.72it/s]\n",
      "100%|██████████| 18/18 [00:01<00:00, 15.91it/s]\n",
      "100%|██████████| 18/18 [00:01<00:00, 17.82it/s]\n",
      "100%|██████████| 18/18 [00:01<00:00, 16.07it/s]\n",
      "100%|██████████| 18/18 [00:00<00:00, 18.67it/s]\n",
      "100%|██████████| 18/18 [00:01<00:00, 16.88it/s]\n",
      "100%|██████████| 18/18 [00:00<00:00, 18.67it/s]\n",
      "100%|██████████| 18/18 [00:00<00:00, 19.79it/s]\n",
      "100%|██████████| 18/18 [00:00<00:00, 19.08it/s]\n"
     ]
    }
   ],
   "source": [
    "for index, kernel in enumerate(local_size):\n",
    "    with open('experiment_otw.txt', 'a') as file:\n",
    "        file.write(f\"Fungi({local_size_key[index]}) \")\n",
    "    for i in range (1, 6, 2):\n",
    "        accuracy = knn_OTW(X_train=X_train, X_test=X_test, y_train=y_train, y_test=y_test, m = m, s=kernel, k=i)\n",
    "        with open('experiment_otw.txt', 'a') as file:\n",
    "            if i == 5:\n",
    "                file.write(f\"&{round(accuracy, 2)}\\\\\\ \\n\")\n",
    "            else:\n",
    "                file.write(f\"&{round(accuracy, 2)} \")\n",
    "with open('experiment_otw.txt', 'a') as file:\n",
    "    file.write(f\"--------------------------------------------------------------------------------------------------\\n\")"
   ]
  },
  {
   "cell_type": "markdown",
   "metadata": {},
   "source": [
    "### GunPoint"
   ]
  },
  {
   "cell_type": "code",
   "execution_count": 23,
   "metadata": {},
   "outputs": [],
   "source": [
    "X_train, y_train, X_test, y_test = getData('GunPoint', '../data/UCR/raw_data/')\n",
    "m = int(len(X_train[0])/2)"
   ]
  },
  {
   "cell_type": "code",
   "execution_count": 24,
   "metadata": {},
   "outputs": [
    {
     "name": "stderr",
     "output_type": "stream",
     "text": [
      "100%|██████████| 50/50 [00:01<00:00, 25.84it/s]\n",
      "100%|██████████| 50/50 [00:01<00:00, 26.96it/s]\n",
      "100%|██████████| 50/50 [00:02<00:00, 22.54it/s]\n",
      "100%|██████████| 50/50 [00:01<00:00, 25.37it/s]\n",
      "100%|██████████| 50/50 [00:02<00:00, 23.79it/s]\n",
      "100%|██████████| 50/50 [00:02<00:00, 21.50it/s]\n",
      "100%|██████████| 50/50 [00:01<00:00, 26.77it/s]\n",
      "100%|██████████| 50/50 [00:02<00:00, 21.63it/s]\n",
      "100%|██████████| 50/50 [00:01<00:00, 26.81it/s]\n",
      "100%|██████████| 50/50 [00:02<00:00, 21.02it/s]\n",
      "100%|██████████| 50/50 [00:02<00:00, 20.71it/s]\n",
      "100%|██████████| 50/50 [00:02<00:00, 24.28it/s]\n"
     ]
    }
   ],
   "source": [
    "for index, kernel in enumerate(local_size):\n",
    "    with open('experiment_otw.txt', 'a') as file:\n",
    "        file.write(f\"GunPoint({local_size_key[index]}) \")\n",
    "    for i in range (1, 6, 2):\n",
    "        accuracy = knn_OTW(X_train=X_train, X_test=X_test, y_train=y_train, y_test=y_test, m = m, s=kernel, k=i)\n",
    "        with open('experiment_otw.txt', 'a') as file:\n",
    "            if i == 5:\n",
    "                file.write(f\"&{round(accuracy, 2)}\\\\\\ \\n\")\n",
    "            else:\n",
    "                file.write(f\"&{round(accuracy, 2)} \")\n",
    "with open('experiment_otw.txt', 'a') as file:\n",
    "    file.write(f\"--------------------------------------------------------------------------------------------------\\n\")"
   ]
  },
  {
   "cell_type": "markdown",
   "metadata": {},
   "source": [
    "### Herring"
   ]
  },
  {
   "cell_type": "code",
   "execution_count": 25,
   "metadata": {},
   "outputs": [],
   "source": [
    "X_train, y_train, X_test, y_test = getData('Herring', '../data/UCR/raw_data/')\n",
    "m = int(len(X_train[0])/2)"
   ]
  },
  {
   "cell_type": "code",
   "execution_count": 26,
   "metadata": {},
   "outputs": [
    {
     "name": "stderr",
     "output_type": "stream",
     "text": [
      "100%|██████████| 64/64 [00:04<00:00, 15.54it/s]\n",
      "100%|██████████| 64/64 [00:03<00:00, 20.06it/s]\n",
      "100%|██████████| 64/64 [00:03<00:00, 20.24it/s]\n",
      "100%|██████████| 64/64 [00:03<00:00, 18.39it/s]\n",
      "100%|██████████| 64/64 [00:03<00:00, 16.64it/s]\n",
      "100%|██████████| 64/64 [00:03<00:00, 18.95it/s]\n",
      "100%|██████████| 64/64 [00:03<00:00, 20.79it/s]\n",
      "100%|██████████| 64/64 [00:03<00:00, 18.35it/s]\n",
      "100%|██████████| 64/64 [00:03<00:00, 17.01it/s]\n",
      "100%|██████████| 64/64 [00:03<00:00, 16.79it/s]\n",
      "100%|██████████| 64/64 [00:03<00:00, 19.14it/s]\n",
      "100%|██████████| 64/64 [00:03<00:00, 20.18it/s]\n"
     ]
    }
   ],
   "source": [
    "for index, kernel in enumerate(local_size):\n",
    "    with open('experiment_otw.txt', 'a') as file:\n",
    "        file.write(f\"Herring({local_size_key[index]}) \")\n",
    "    for i in range (1, 6, 2):\n",
    "        accuracy = knn_OTW(X_train=X_train, X_test=X_test, y_train=y_train, y_test=y_test, m = m, s=kernel, k=i)\n",
    "        with open('experiment_otw.txt', 'a') as file:\n",
    "            if i == 5:\n",
    "                file.write(f\"&{round(accuracy, 2)}\\\\\\ \\n\")\n",
    "            else:\n",
    "                file.write(f\"&{round(accuracy, 2)} \")\n",
    "with open('experiment_otw.txt', 'a') as file:\n",
    "    file.write(f\"--------------------------------------------------------------------------------------------------\\n\")"
   ]
  },
  {
   "cell_type": "markdown",
   "metadata": {},
   "source": [
    "### ItalyPowerDemand"
   ]
  },
  {
   "cell_type": "code",
   "execution_count": 27,
   "metadata": {},
   "outputs": [],
   "source": [
    "X_train, y_train, X_test, y_test = getData('ItalyPowerDemand', '../data/UCR/raw_data/')\n",
    "m = int(len(X_train[0])/2)"
   ]
  },
  {
   "cell_type": "code",
   "execution_count": 28,
   "metadata": {},
   "outputs": [
    {
     "name": "stderr",
     "output_type": "stream",
     "text": [
      "100%|██████████| 67/67 [00:03<00:00, 22.32it/s]\n",
      "100%|██████████| 67/67 [00:02<00:00, 24.13it/s]\n",
      "100%|██████████| 67/67 [00:02<00:00, 23.63it/s]\n",
      "100%|██████████| 67/67 [00:02<00:00, 25.16it/s]\n",
      "100%|██████████| 67/67 [00:02<00:00, 26.38it/s]\n",
      "100%|██████████| 67/67 [00:02<00:00, 26.55it/s]\n",
      "100%|██████████| 67/67 [00:02<00:00, 24.83it/s]\n",
      "100%|██████████| 67/67 [00:02<00:00, 25.17it/s]\n",
      "100%|██████████| 67/67 [00:02<00:00, 26.40it/s]\n",
      "100%|██████████| 67/67 [00:02<00:00, 25.21it/s]\n",
      "100%|██████████| 67/67 [00:02<00:00, 25.42it/s]\n",
      "100%|██████████| 67/67 [00:02<00:00, 23.51it/s]\n"
     ]
    }
   ],
   "source": [
    "for index, kernel in enumerate(local_size):\n",
    "    with open('experiment_otw.txt', 'a') as file:\n",
    "        file.write(f\"ItalyPowerDemand({local_size_key[index]}) \")\n",
    "    for i in range (1, 6, 2):\n",
    "        accuracy = knn_OTW(X_train=X_train, X_test=X_test, y_train=y_train, y_test=y_test, m = m, s=kernel, k=i)\n",
    "        with open('experiment_otw.txt', 'a') as file:\n",
    "            if i == 5:\n",
    "                file.write(f\"&{round(accuracy, 2)}\\\\\\ \\n\")\n",
    "            else:\n",
    "                file.write(f\"&{round(accuracy, 2)} \")\n",
    "with open('experiment_otw.txt', 'a') as file:\n",
    "    file.write(f\"--------------------------------------------------------------------------------------------------\\n\")"
   ]
  },
  {
   "cell_type": "markdown",
   "metadata": {},
   "source": [
    "### MoteStrain"
   ]
  },
  {
   "cell_type": "code",
   "execution_count": 29,
   "metadata": {},
   "outputs": [],
   "source": [
    "X_train, y_train, X_test, y_test = getData('MoteStrain', '../data/UCR/raw_data/')\n",
    "m = int(len(X_train[0])/2)"
   ]
  },
  {
   "cell_type": "code",
   "execution_count": 30,
   "metadata": {},
   "outputs": [
    {
     "name": "stderr",
     "output_type": "stream",
     "text": [
      "100%|██████████| 20/20 [00:02<00:00,  6.75it/s]\n",
      "100%|██████████| 20/20 [00:03<00:00,  5.99it/s]\n",
      "100%|██████████| 20/20 [00:03<00:00,  6.36it/s]\n",
      "100%|██████████| 20/20 [00:02<00:00,  6.76it/s]\n",
      "100%|██████████| 20/20 [00:03<00:00,  5.94it/s]\n",
      "100%|██████████| 20/20 [00:03<00:00,  6.24it/s]\n",
      "100%|██████████| 20/20 [00:02<00:00,  6.88it/s]\n",
      "100%|██████████| 20/20 [00:02<00:00,  7.01it/s]\n",
      "100%|██████████| 20/20 [00:02<00:00,  7.05it/s]\n",
      "100%|██████████| 20/20 [00:03<00:00,  6.10it/s]\n",
      "100%|██████████| 20/20 [00:02<00:00,  6.88it/s]\n",
      "100%|██████████| 20/20 [00:03<00:00,  6.57it/s]\n"
     ]
    }
   ],
   "source": [
    "for index, kernel in enumerate(local_size):\n",
    "    with open('experiment_otw.txt', 'a') as file:\n",
    "        file.write(f\"MoteStrain({local_size_key[index]}) \")\n",
    "    for i in range (1, 6, 2):\n",
    "        accuracy = knn_OTW(X_train=X_train, X_test=X_test, y_train=y_train, y_test=y_test, m = m, s=kernel, k=i)\n",
    "        with open('experiment_otw.txt', 'a') as file:\n",
    "            if i == 5:\n",
    "                file.write(f\"&{round(accuracy, 2)}\\\\\\ \\n\")\n",
    "            else:\n",
    "                file.write(f\"&{round(accuracy, 2)} \")\n",
    "with open('experiment_otw.txt', 'a') as file:\n",
    "    file.write(f\"--------------------------------------------------------------------------------------------------\\n\")"
   ]
  },
  {
   "cell_type": "markdown",
   "metadata": {},
   "source": [
    "### OliveOil"
   ]
  },
  {
   "cell_type": "code",
   "execution_count": 31,
   "metadata": {},
   "outputs": [],
   "source": [
    "X_train, y_train, X_test, y_test = getData('OliveOil', '../data/UCR/raw_data/')\n",
    "m = int(len(X_train[0])/2)"
   ]
  },
  {
   "cell_type": "code",
   "execution_count": 32,
   "metadata": {},
   "outputs": [
    {
     "name": "stderr",
     "output_type": "stream",
     "text": [
      "100%|██████████| 30/30 [00:01<00:00, 20.56it/s]\n",
      "100%|██████████| 30/30 [00:01<00:00, 18.85it/s]\n",
      "100%|██████████| 30/30 [00:01<00:00, 20.46it/s]\n",
      "100%|██████████| 30/30 [00:01<00:00, 25.78it/s]\n",
      "100%|██████████| 30/30 [00:01<00:00, 24.02it/s]\n",
      "100%|██████████| 30/30 [00:01<00:00, 25.28it/s]\n",
      "100%|██████████| 30/30 [00:01<00:00, 25.46it/s]\n",
      "100%|██████████| 30/30 [00:01<00:00, 26.80it/s]\n",
      "100%|██████████| 30/30 [00:00<00:00, 31.42it/s]\n",
      "100%|██████████| 30/30 [00:00<00:00, 32.86it/s]\n",
      "100%|██████████| 30/30 [00:01<00:00, 28.26it/s]\n",
      "100%|██████████| 30/30 [00:01<00:00, 29.54it/s]\n"
     ]
    }
   ],
   "source": [
    "for index, kernel in enumerate(local_size):\n",
    "    with open('experiment_otw.txt', 'a') as file:\n",
    "        file.write(f\"OliveOil({local_size_key[index]}) \")\n",
    "    for i in range (1, 6, 2):\n",
    "        accuracy = knn_OTW(X_train=X_train, X_test=X_test, y_train=y_train, y_test=y_test, m = m, s=kernel, k=i)\n",
    "        with open('experiment_otw.txt', 'a') as file:\n",
    "            if i == 5:\n",
    "                file.write(f\"&{round(accuracy, 2)}\\\\\\ \\n\")\n",
    "            else:\n",
    "                file.write(f\"&{round(accuracy, 2)} \")\n",
    "with open('experiment_otw.txt', 'a') as file:\n",
    "    file.write(f\"--------------------------------------------------------------------------------------------------\\n\")"
   ]
  },
  {
   "cell_type": "markdown",
   "metadata": {},
   "source": [
    "### Plane"
   ]
  },
  {
   "cell_type": "code",
   "execution_count": 33,
   "metadata": {},
   "outputs": [],
   "source": [
    "X_train, y_train, X_test, y_test = getData('Plane', '../data/UCR/raw_data/')\n",
    "m = int(len(X_train[0])/2)"
   ]
  },
  {
   "cell_type": "code",
   "execution_count": 34,
   "metadata": {},
   "outputs": [
    {
     "name": "stderr",
     "output_type": "stream",
     "text": [
      "100%|██████████| 105/105 [00:03<00:00, 30.79it/s]\n",
      "100%|██████████| 105/105 [00:02<00:00, 35.75it/s]\n",
      "100%|██████████| 105/105 [00:03<00:00, 32.40it/s]\n",
      "100%|██████████| 105/105 [00:04<00:00, 25.46it/s]\n",
      "100%|██████████| 105/105 [00:03<00:00, 30.34it/s]\n",
      "100%|██████████| 105/105 [00:02<00:00, 37.83it/s]\n",
      "100%|██████████| 105/105 [00:03<00:00, 33.24it/s]\n",
      "100%|██████████| 105/105 [00:03<00:00, 31.02it/s]\n",
      "100%|██████████| 105/105 [00:03<00:00, 27.82it/s]\n",
      "100%|██████████| 105/105 [00:03<00:00, 29.84it/s]\n",
      "100%|██████████| 105/105 [00:03<00:00, 28.70it/s]\n",
      "100%|██████████| 105/105 [00:03<00:00, 32.97it/s]\n"
     ]
    }
   ],
   "source": [
    "for index, kernel in enumerate(local_size):\n",
    "    with open('experiment_otw.txt', 'a') as file:\n",
    "        file.write(f\"Plane({local_size_key[index]}) \")\n",
    "    for i in range (1, 6, 2):\n",
    "        accuracy = knn_OTW(X_train=X_train, X_test=X_test, y_train=y_train, y_test=y_test, m = m, s=kernel, k=i)\n",
    "        with open('experiment_otw.txt', 'a') as file:\n",
    "            if i == 5:\n",
    "                file.write(f\"&{round(accuracy, 2)}\\\\\\ \\n\")\n",
    "            else:\n",
    "                file.write(f\"&{round(accuracy, 2)} \")\n",
    "with open('experiment_otw.txt', 'a') as file:\n",
    "    file.write(f\"--------------------------------------------------------------------------------------------------\\n\")"
   ]
  },
  {
   "cell_type": "markdown",
   "metadata": {},
   "source": [
    "### SmoothSubspace"
   ]
  },
  {
   "cell_type": "code",
   "execution_count": 35,
   "metadata": {},
   "outputs": [],
   "source": [
    "X_train, y_train, X_test, y_test = getData('SmoothSubspace', '../data/UCR/raw_data/')\n",
    "m = int(len(X_train[0])/2)"
   ]
  },
  {
   "cell_type": "code",
   "execution_count": 36,
   "metadata": {},
   "outputs": [
    {
     "name": "stderr",
     "output_type": "stream",
     "text": [
      "100%|██████████| 150/150 [00:01<00:00, 77.82it/s]\n",
      "100%|██████████| 150/150 [00:02<00:00, 74.71it/s]\n",
      "100%|██████████| 150/150 [00:01<00:00, 78.77it/s]\n",
      "100%|██████████| 150/150 [00:01<00:00, 82.50it/s]\n",
      "100%|██████████| 150/150 [00:01<00:00, 77.50it/s]\n",
      "100%|██████████| 150/150 [00:01<00:00, 92.75it/s]\n",
      "100%|██████████| 150/150 [00:01<00:00, 78.52it/s]\n",
      "100%|██████████| 150/150 [00:02<00:00, 67.01it/s]\n",
      "100%|██████████| 150/150 [00:02<00:00, 60.13it/s]\n",
      "100%|██████████| 150/150 [00:01<00:00, 112.16it/s]\n",
      "100%|██████████| 150/150 [00:01<00:00, 131.30it/s]\n",
      "100%|██████████| 150/150 [00:01<00:00, 88.18it/s]\n"
     ]
    }
   ],
   "source": [
    "for index, kernel in enumerate(local_size):\n",
    "    with open('experiment_otw.txt', 'a') as file:\n",
    "        file.write(f\"SmoothSubspace({local_size_key[index]}) \")\n",
    "    for i in range (1, 6, 2):\n",
    "        accuracy = knn_OTW(X_train=X_train, X_test=X_test, y_train=y_train, y_test=y_test, m = m, s=kernel, k=i)\n",
    "        with open('experiment_otw.txt', 'a') as file:\n",
    "            if i == 5:\n",
    "                file.write(f\"&{round(accuracy, 2)}\\\\\\ \\n\")\n",
    "            else:\n",
    "                file.write(f\"&{round(accuracy, 2)} \")\n",
    "with open('experiment_otw.txt', 'a') as file:\n",
    "    file.write(f\"--------------------------------------------------------------------------------------------------\\n\")"
   ]
  },
  {
   "cell_type": "markdown",
   "metadata": {},
   "source": [
    "### SonyAIBORobotSurface1"
   ]
  },
  {
   "cell_type": "code",
   "execution_count": 37,
   "metadata": {},
   "outputs": [],
   "source": [
    "X_train, y_train, X_test, y_test = getData('SonyAIBORobotSurface1', '../data/UCR/raw_data/')\n",
    "m = int(len(X_train[0])/2)"
   ]
  },
  {
   "cell_type": "code",
   "execution_count": 38,
   "metadata": {},
   "outputs": [
    {
     "name": "stderr",
     "output_type": "stream",
     "text": [
      "100%|██████████| 20/20 [00:02<00:00,  9.67it/s]\n",
      "100%|██████████| 20/20 [00:02<00:00,  9.92it/s]\n",
      "100%|██████████| 20/20 [00:01<00:00, 10.48it/s]\n",
      "100%|██████████| 20/20 [00:01<00:00, 10.90it/s]\n",
      "100%|██████████| 20/20 [00:01<00:00, 14.79it/s]\n",
      "100%|██████████| 20/20 [00:01<00:00, 12.67it/s]\n",
      "100%|██████████| 20/20 [00:01<00:00, 16.20it/s]\n",
      "100%|██████████| 20/20 [00:01<00:00, 14.75it/s]\n",
      "100%|██████████| 20/20 [00:01<00:00, 14.79it/s]\n",
      "100%|██████████| 20/20 [00:01<00:00, 14.90it/s]\n",
      "100%|██████████| 20/20 [00:01<00:00, 16.32it/s]\n",
      "100%|██████████| 20/20 [00:01<00:00, 14.86it/s]\n"
     ]
    }
   ],
   "source": [
    "for index, kernel in enumerate(local_size):\n",
    "    with open('experiment_otw.txt', 'a') as file:\n",
    "        file.write(f\"SonyAIBORobotSurface1({local_size_key[index]}) \")\n",
    "    for i in range (1, 6, 2):\n",
    "        accuracy = knn_OTW(X_train=X_train, X_test=X_test, y_train=y_train, y_test=y_test, m = m, s=kernel, k=i)\n",
    "        with open('experiment_otw.txt', 'a') as file:\n",
    "            if i == 5:\n",
    "                file.write(f\"&{round(accuracy, 2)}\\\\\\ \\n\")\n",
    "            else:\n",
    "                file.write(f\"&{round(accuracy, 2)} \")\n",
    "with open('experiment_otw.txt', 'a') as file:\n",
    "    file.write(f\"--------------------------------------------------------------------------------------------------\\n\")"
   ]
  },
  {
   "cell_type": "markdown",
   "metadata": {},
   "source": [
    "### SonyAIBORobotSurface2"
   ]
  },
  {
   "cell_type": "code",
   "execution_count": 39,
   "metadata": {},
   "outputs": [],
   "source": [
    "X_train, y_train, X_test, y_test = getData('SonyAIBORobotSurface2', '../data/UCR/raw_data/')\n",
    "m = int(len(X_train[0])/2)"
   ]
  },
  {
   "cell_type": "code",
   "execution_count": 40,
   "metadata": {},
   "outputs": [
    {
     "name": "stderr",
     "output_type": "stream",
     "text": [
      "100%|██████████| 27/27 [00:02<00:00, 11.60it/s]\n",
      "100%|██████████| 27/27 [00:02<00:00, 12.26it/s]\n",
      "100%|██████████| 27/27 [00:02<00:00, 13.00it/s]\n",
      "100%|██████████| 27/27 [00:01<00:00, 13.87it/s]\n",
      "100%|██████████| 27/27 [00:02<00:00, 11.65it/s]\n",
      "100%|██████████| 27/27 [00:02<00:00, 12.21it/s]\n",
      "100%|██████████| 27/27 [00:02<00:00, 12.92it/s]\n",
      "100%|██████████| 27/27 [00:02<00:00, 11.80it/s]\n",
      "100%|██████████| 27/27 [00:02<00:00, 11.90it/s]\n",
      "100%|██████████| 27/27 [00:01<00:00, 13.77it/s]\n",
      "100%|██████████| 27/27 [00:02<00:00, 11.57it/s]\n",
      "100%|██████████| 27/27 [00:02<00:00, 11.68it/s]\n"
     ]
    }
   ],
   "source": [
    "for index, kernel in enumerate(local_size):\n",
    "    with open('experiment_otw.txt', 'a') as file:\n",
    "        file.write(f\"SonyAIBORobotSurface2({local_size_key[index]}) \")\n",
    "    for i in range (1, 6, 2):\n",
    "        accuracy = knn_OTW(X_train=X_train, X_test=X_test, y_train=y_train, y_test=y_test, m = m, s=kernel, k=i)\n",
    "        with open('experiment_otw.txt', 'a') as file:\n",
    "            if i == 5:\n",
    "                file.write(f\"&{round(accuracy, 2)}\\\\\\ \\n\")\n",
    "            else:\n",
    "                file.write(f\"&{round(accuracy, 2)} \")\n",
    "with open('experiment_otw.txt', 'a') as file:\n",
    "    file.write(f\"--------------------------------------------------------------------------------------------------\\n\")"
   ]
  },
  {
   "cell_type": "markdown",
   "metadata": {},
   "source": [
    "### ToeSegmentation2"
   ]
  },
  {
   "cell_type": "code",
   "execution_count": 41,
   "metadata": {},
   "outputs": [],
   "source": [
    "X_train, y_train, X_test, y_test = getData('ToeSegmentation2', '../data/UCR/raw_data/')\n",
    "m = int(len(X_train[0])/2)"
   ]
  },
  {
   "cell_type": "code",
   "execution_count": 42,
   "metadata": {},
   "outputs": [
    {
     "name": "stderr",
     "output_type": "stream",
     "text": [
      "100%|██████████| 36/36 [00:02<00:00, 12.97it/s]\n",
      "100%|██████████| 36/36 [00:02<00:00, 14.38it/s]\n",
      "100%|██████████| 36/36 [00:02<00:00, 15.09it/s]\n",
      "100%|██████████| 36/36 [00:02<00:00, 15.00it/s]\n",
      "100%|██████████| 36/36 [00:02<00:00, 15.98it/s]\n",
      "100%|██████████| 36/36 [00:02<00:00, 14.62it/s]\n",
      "100%|██████████| 36/36 [00:02<00:00, 16.75it/s]\n",
      "100%|██████████| 36/36 [00:02<00:00, 13.42it/s]\n",
      "100%|██████████| 36/36 [00:03<00:00, 10.68it/s]\n",
      "100%|██████████| 36/36 [00:02<00:00, 16.51it/s]\n",
      "100%|██████████| 36/36 [00:02<00:00, 16.93it/s]\n",
      "100%|██████████| 36/36 [00:02<00:00, 17.18it/s]\n"
     ]
    }
   ],
   "source": [
    "for index, kernel in enumerate(local_size):\n",
    "    with open('experiment_otw.txt', 'a') as file:\n",
    "        file.write(f\"ToeSegmentation2({local_size_key[index]}) \")\n",
    "    for i in range (1, 6, 2):\n",
    "        accuracy = knn_OTW(X_train=X_train, X_test=X_test, y_train=y_train, y_test=y_test, m = m, s=kernel, k=i)\n",
    "        with open('experiment_otw.txt', 'a') as file:\n",
    "            if i == 5:\n",
    "                file.write(f\"&{round(accuracy, 2)}\\\\\\ \\n\")\n",
    "            else:\n",
    "                file.write(f\"&{round(accuracy, 2)} \")\n",
    "with open('experiment_otw.txt', 'a') as file:\n",
    "    file.write(f\"--------------------------------------------------------------------------------------------------\\n\")"
   ]
  }
 ],
 "metadata": {
  "kernelspec": {
   "display_name": "venv",
   "language": "python",
   "name": "python3"
  },
  "language_info": {
   "codemirror_mode": {
    "name": "ipython",
    "version": 3
   },
   "file_extension": ".py",
   "mimetype": "text/x-python",
   "name": "python",
   "nbconvert_exporter": "python",
   "pygments_lexer": "ipython3",
   "version": "3.11.5"
  },
  "orig_nbformat": 4
 },
 "nbformat": 4,
 "nbformat_minor": 2
}
